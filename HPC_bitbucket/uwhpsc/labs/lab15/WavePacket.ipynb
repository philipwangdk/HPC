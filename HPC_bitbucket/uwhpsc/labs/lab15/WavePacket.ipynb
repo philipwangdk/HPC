{
 "metadata": {
  "name": "",
  "signature": "sha256:287b02f470b9268a63098139189420ef78d182d50053cfdc9acbd76278c3e4f0"
 },
 "nbformat": 3,
 "nbformat_minor": 0,
 "worksheets": [
  {
   "cells": [
    {
     "cell_type": "markdown",
     "metadata": {},
     "source": [
      "# Animation example -- advecting wave packet"
     ]
    },
    {
     "cell_type": "code",
     "collapsed": false,
     "input": [
      "%pylab inline"
     ],
     "language": "python",
     "metadata": {},
     "outputs": []
    },
    {
     "cell_type": "code",
     "collapsed": false,
     "input": [
      "from JSAnimation import IPython_display\n",
      "import JSAnimation_frametools as J"
     ],
     "language": "python",
     "metadata": {},
     "outputs": []
    },
    {
     "cell_type": "code",
     "collapsed": false,
     "input": [
      "plotdir = '_plots'  # to store png files for each figure\n",
      "J.make_plotdir(plotdir, clobber=True)  # ok to clobber if it already exists"
     ],
     "language": "python",
     "metadata": {},
     "outputs": []
    },
    {
     "cell_type": "code",
     "collapsed": false,
     "input": [
      "x = linspace(0., 10., 1001)\n",
      "nsteps = 21\n",
      "dt = 11. / (nsteps+1)\n",
      "\n",
      "plotdir = '_plots'\n",
      "\n",
      "for n in range(nsteps+1):\n",
      "    t = n*dt\n",
      "    x0 = x - 1. - t\n",
      "    u = sin(20.*x0) * exp(-5.*x0**2)\n",
      "    clf()\n",
      "    plot(x,u,'b')\n",
      "    ylim(-1.2, 1.2)\n",
      "    title('Wave packet at t = %8.4f' % t, fontsize=20)\n",
      "    \n",
      "    # Save this frame:\n",
      "    J.save_frame(n, plotdir,verbose=False)\n",
      "    #show()\n"
     ],
     "language": "python",
     "metadata": {},
     "outputs": []
    },
    {
     "cell_type": "code",
     "collapsed": false,
     "input": [
      "anim = J.make_anim(plotdir)\n",
      "anim"
     ],
     "language": "python",
     "metadata": {},
     "outputs": []
    },
    {
     "cell_type": "code",
     "collapsed": false,
     "input": [
      "J.make_html(anim, file_name=\"Wave.html\", title=\"Advecting wave packet\")"
     ],
     "language": "python",
     "metadata": {},
     "outputs": []
    },
    {
     "cell_type": "code",
     "collapsed": false,
     "input": [],
     "language": "python",
     "metadata": {},
     "outputs": []
    }
   ],
   "metadata": {}
  }
 ]
}