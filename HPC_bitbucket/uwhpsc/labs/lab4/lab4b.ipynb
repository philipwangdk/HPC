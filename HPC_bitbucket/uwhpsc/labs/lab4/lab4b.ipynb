{
 "metadata": {
  "name": ""
 },
 "nbformat": 3,
 "nbformat_minor": 0,
 "worksheets": [
  {
   "cells": [
    {
     "cell_type": "heading",
     "level": 1,
     "metadata": {},
     "source": [
      "AMath 583 Lab 4 -- Sample solution"
     ]
    },
    {
     "cell_type": "markdown",
     "metadata": {},
     "source": [
      "## Where to find this notebook:\n",
      "\n",
      "* This notebook will be in \\$UWHPSC/labs/lab4/lab4b.ipynb if you have cloned the class repository.  You may need to \"git pull\" to update.\n"
     ]
    },
    {
     "cell_type": "markdown",
     "metadata": {},
     "source": [
      "You do not need to do the next command when using the IPython notebook on SageMathCloud, but it may be needed if you open this notebook on another system where the defaults are set differently.  It does \"from pylab import *\" so numpy and plotting commands are available, and sets it up for plots to appear in the notebook webpage"
     ]
    },
    {
     "cell_type": "code",
     "collapsed": false,
     "input": [
      "%pylab inline   "
     ],
     "language": "python",
     "metadata": {},
     "outputs": [
      {
       "output_type": "stream",
       "stream": "stdout",
       "text": [
        "Populating the interactive namespace from numpy and matplotlib\n"
       ]
      }
     ],
     "prompt_number": 4
    },
    {
     "cell_type": "markdown",
     "metadata": {},
     "source": [
      "## Newton's method"
     ]
    },
    {
     "cell_type": "code",
     "collapsed": false,
     "input": [
      "def newton(fvals, x0, tol):\n",
      "    xk = x0\n",
      "    kmax = 30   # maximum number of iterations\n",
      "    print \"   k               xk                      f(xk)\"\n",
      "    for k in range(kmax):\n",
      "        \n",
      "        fxk, fpxk = fvals(xk)  # evaluate f(x) and f'(x)\n",
      "        print \"%4i   %22.15f  %22.15f\"  % (k, xk, fxk)\n",
      "\n",
      "        if abs(fxk) < tol:\n",
      "            break  #leave the loop if tolerance satisfied\n",
      "            \n",
      "        xk = xk - fxk / fpxk  # update xk using Newton's method\n",
      "\n",
      "    return xk\n",
      "            \n"
     ],
     "language": "python",
     "metadata": {},
     "outputs": [],
     "prompt_number": 5
    },
    {
     "cell_type": "markdown",
     "metadata": {},
     "source": [
      "## New problem:\n",
      "\n",
      "Find the two points where the circle and line intersect in the plot below.\n",
      "The equation of the circle is $(x-1)^2 + y^2 = 4$ and the curve $y = \\cos(x)$.\n",
      "Combine these equations by plugging $\\cos(x)$ in for $y$ in the equation for the circle.  This gives a single nonlinear equation in $x$ that you can solve using Newton's method.\n",
      "\n",
      "Try to find both intersections and then replot the circle with these two points as red dots."
     ]
    },
    {
     "cell_type": "code",
     "collapsed": false,
     "input": [
      "theta = linspace(0, 2*pi, 1000)\n",
      "x = 1 + 2*cos(theta)\n",
      "y = 2*sin(theta)\n",
      "plot(x,y,'b')\n",
      "\n",
      "x = linspace(-2,4,1000)\n",
      "y = cos(x)\n",
      "plot(x,y,'b')\n",
      "axis('scaled')  # so circle looks circular\n"
     ],
     "language": "python",
     "metadata": {},
     "outputs": [
      {
       "metadata": {},
       "output_type": "pyout",
       "prompt_number": 15,
       "text": [
        "(-2.0, 4.0, -2.0, 2.0)"
       ]
      },
      {
       "metadata": {},
       "output_type": "display_data",
       "png": "[encoded data removed]",
       "text": [
        "<matplotlib.figure.Figure at 0x2f39210>"
       ]
      }
     ],
     "prompt_number": 15
    },
    {
     "cell_type": "markdown",
     "metadata": {},
     "source": [
      "## Solution:\n",
      "\n",
      "Define the function and derivative and plot f(x):"
     ]
    },
    {
     "cell_type": "code",
     "collapsed": false,
     "input": [
      "def fvals(x):\n",
      "    f = (x-1)**2 + cos(x)**2 - 4.\n",
      "    fprime = 2*(x-1) - 2*cos(x)*sin(x)\n",
      "    return f,fprime"
     ],
     "language": "python",
     "metadata": {},
     "outputs": [],
     "prompt_number": 16
    },
    {
     "cell_type": "code",
     "collapsed": false,
     "input": [
      "x = linspace(-2,4,1000)\n",
      "fx, fpx = fvals(x)\n",
      "plot(x,fx)\n",
      "plot(x,zeros(len(x)), 'k')  # x-axis\n"
     ],
     "language": "python",
     "metadata": {},
     "outputs": [
      {
       "metadata": {},
       "output_type": "pyout",
       "prompt_number": 17,
       "text": [
        "[<matplotlib.lines.Line2D at 0x3649110>]"
       ]
      },
      {
       "metadata": {},
       "output_type": "display_data",
       "png": "[encoded data removed]",
       "text": [
        "<matplotlib.figure.Figure at 0x350f650>"
       ]
      }
     ],
     "prompt_number": 17
    },
    {
     "cell_type": "markdown",
     "metadata": {},
     "source": [
      "Find the two roots via two different starting values:"
     ]
    },
    {
     "cell_type": "code",
     "collapsed": false,
     "input": [
      "x0 = -1.\n",
      "xk1 = newton(fvals, x0, 1e-10)"
     ],
     "language": "python",
     "metadata": {},
     "outputs": [
      {
       "output_type": "stream",
       "stream": "stdout",
       "text": [
        "   k               xk                      f(xk)\n",
        "   0       -1.000000000000000       0.291926581726429\n",
        "   1       -0.905546853890051       0.012113075692203\n",
        "   2       -0.901281425757293       0.000022473588790\n",
        "   3       -0.901273482597076       0.000000000077586\n"
       ]
      }
     ],
     "prompt_number": 18
    },
    {
     "cell_type": "code",
     "collapsed": false,
     "input": [
      "x0 = 2.\n",
      "xk2 = newton(fvals, x0, 1e-10)"
     ],
     "language": "python",
     "metadata": {},
     "outputs": [
      {
       "output_type": "stream",
       "stream": "stdout",
       "text": [
        "   k               xk                      f(xk)\n",
        "   0        2.000000000000000      -2.826821810431806\n",
        "   1        3.025398741927668       1.088799688651651\n",
        "   2        2.771071614076918       0.005577410491355\n",
        "   3        2.769749075408306       0.000000459718415\n",
        "   4        2.769748966379979       0.000000000000004\n"
       ]
      }
     ],
     "prompt_number": 19
    },
    {
     "cell_type": "markdown",
     "metadata": {},
     "source": [
      "Plot the solutions found:"
     ]
    },
    {
     "cell_type": "code",
     "collapsed": false,
     "input": [
      "theta = linspace(0, 2*pi, 1000)\n",
      "x = 1 + 2*cos(theta)\n",
      "y = 2*sin(theta)\n",
      "plot(x,y,'b')\n",
      "\n",
      "x = linspace(-2,4,1000)\n",
      "y = cos(x)\n",
      "plot(x,y,'b')\n",
      "axis('scaled')  # so circle looks circular\n",
      "\n",
      "plot([xk1,xk2], [cos(xk1),cos(xk2)],'ro')"
     ],
     "language": "python",
     "metadata": {},
     "outputs": [
      {
       "metadata": {},
       "output_type": "pyout",
       "prompt_number": 20,
       "text": [
        "[<matplotlib.lines.Line2D at 0x34e4150>]"
       ]
      },
      {
       "metadata": {},
       "output_type": "display_data",
       "png": "[encoded data removed]",
       "text": [
        "<matplotlib.figure.Figure at 0x3595310>"
       ]
      }
     ],
     "prompt_number": 20
    },
    {
     "cell_type": "code",
     "collapsed": false,
     "input": [],
     "language": "python",
     "metadata": {},
     "outputs": [],
     "prompt_number": 20
    }
   ],
   "metadata": {}
  }
 ]
}