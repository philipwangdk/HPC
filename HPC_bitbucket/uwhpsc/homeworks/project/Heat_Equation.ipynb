{
 "metadata": {
  "name": "",
  "signature": "sha256:1c8c391af767899949ae101f709ddc4e6b7ef7752d6abf8231684134654f4ee9"
 },
 "nbformat": 3,
 "nbformat_minor": 0,
 "worksheets": [
  {
   "cells": [
    {
     "cell_type": "markdown",
     "metadata": {},
     "source": [
      "# Heat Equation solvers\n",
      "\n",
      "This notebook can be found in `$UWHPSC/homeworks/project/Heat_Equation.ipynb`\n",
      "\n",
      "The \"heat equation\" or \"diffusion equation\" is a partial differential equation that in the simplest case takes the form $u_t(x,t) = u_{xx}(x,t)$ in one space dimension $x$ and time $t$.  You could add a source term to this equation and then the steady state to obtain a boundary value problem, as solved in Homework 4.  In this notebook we explore the behavior of the time dependent problem with no source term.\n",
      "\n",
      "This equation is generally solved on some fixed domain in $x$ (e.g. in this notebook we will assume we are solving it for $0 < x < \\pi$) and for time $t>t_0$.  In general we must also specify initial conditions (the temperature $u(x,t_0)$) and boundary conditions $u(0,t)$ at the left edge and $u(\\pi,t)$ at the right edge of the domain.\n",
      "\n",
      "To keep thing simple, we will also assume that the boundary conditions are constant for all time, of the form $u(0,t) = 0$ and $u(\\pi,t) = 0$.   \n",
      "\n",
      "This models, for example, the temperature distribution in a one-dimensional metal rod of length $\\pi$, where some initial temperature is specified along the length of the rod and each end of the rod is kept fixed at 0 degrees (e.g. by placing a block of ice at each end that absorbs heat from the rod). \n",
      "\n",
      "For any initial conditions, if we wait long enough to some time $T$, we expect the temperature to reach a constant state $u(x,T) = 0$ for all $x$.  This is a steady state with $u_t = u_{xx} = 0$ and both boundary conditions satisfied."
     ]
    },
    {
     "cell_type": "code",
     "collapsed": false,
     "input": [
      "%pylab inline"
     ],
     "language": "python",
     "metadata": {},
     "outputs": []
    },
    {
     "cell_type": "markdown",
     "metadata": {},
     "source": [
      "Import some things we'll use below..."
     ]
    },
    {
     "cell_type": "code",
     "collapsed": false,
     "input": [
      "from scipy import sparse  # to define sparse matrices\n",
      "from scipy.sparse.linalg import spsolve   # to solve sparse systems\n",
      "from JSAnimation import IPython_display\n",
      "from matplotlib import animation"
     ],
     "language": "python",
     "metadata": {},
     "outputs": []
    },
    {
     "cell_type": "markdown",
     "metadata": {},
     "source": [
      "The next module is provided in this local directory:"
     ]
    },
    {
     "cell_type": "code",
     "collapsed": false,
     "input": [
      "import JSAnimation_frametools as J  \n",
      "plotdir = '_plots'  # to store png files for each figure\n",
      "J.make_plotdir(plotdir, clobber=True)  # ok to clobber if it already exists"
     ],
     "language": "python",
     "metadata": {},
     "outputs": []
    },
    {
     "cell_type": "markdown",
     "metadata": {},
     "source": [
      "A function to plot the true solution at various times and make frames for an animation:"
     ]
    },
    {
     "cell_type": "code",
     "collapsed": false,
     "input": [
      "def make_frames(u_true):\n",
      "    x = linspace(0., pi, 200)\n",
      "    tfinal = 0.25\n",
      "    num_frames = 25\n",
      "    for nstep in range(num_frames + 1):\n",
      "        t = (float(nstep)/num_frames) * tfinal\n",
      "        plot(x, u_true(x,t), 'b')\n",
      "        title(\"u(x,t) at t = %6.4f\" % t)\n",
      "        axis([0,pi,-1.2,1.2])\n",
      "        # Save this frame:\n",
      "        J.save_frame(nstep, plotdir,verbose=False)\n",
      "        clf()"
     ],
     "language": "python",
     "metadata": {},
     "outputs": []
    },
    {
     "cell_type": "markdown",
     "metadata": {},
     "source": [
      "## Some exact solutions -- Fourier modes\n",
      "\n",
      "For any integer $k$, the function $\\sin(kx)$ satisfies the boundary conditions at $0$ and $\\pi$.  The second derivative of this function is $-k^2 \\sin(kx)$ and the function $u(x,t) = e^{-k^2t}\\sin(kx)$ satisfies the heat equation $u_t = u_{xx}$ with initial conditions $u(x,0) = \\sin(kx)$.  \n",
      "\n",
      "Note that the larger $k$ is, the more rapidly $u(x,t)$ decays to zero.  Below are a few examples..."
     ]
    },
    {
     "cell_type": "code",
     "collapsed": false,
     "input": [
      "k = 1\n",
      "u = lambda x,t: exp(-k**2 * t)*sin(k*x)\n",
      "make_frames(u)\n",
      "J.make_anim(plotdir,figsize=(8,4))"
     ],
     "language": "python",
     "metadata": {},
     "outputs": []
    },
    {
     "cell_type": "code",
     "collapsed": false,
     "input": [
      "k = 2\n",
      "u = lambda x,t: exp(-k**2 * t)*sin(k*x)\n",
      "make_frames(u)\n",
      "J.make_anim(plotdir,figsize=(8,4))"
     ],
     "language": "python",
     "metadata": {},
     "outputs": []
    },
    {
     "cell_type": "code",
     "collapsed": false,
     "input": [
      "k = 8\n",
      "u = lambda x,t: exp(-k**2 * t)*sin(k*x)\n",
      "make_frames(u)\n",
      "J.make_anim(plotdir,figsize=(8,4))"
     ],
     "language": "python",
     "metadata": {},
     "outputs": []
    },
    {
     "cell_type": "markdown",
     "metadata": {},
     "source": [
      "Note that any linear combination of Fourier modes is also a solution, for example..."
     ]
    },
    {
     "cell_type": "code",
     "collapsed": false,
     "input": [
      "k1 = 1\n",
      "k2 = 8\n",
      "u = lambda x,t: exp(-k1**2 * t)*sin(k1*x) + 0.2 * exp(-k2**2 * t)*sin(k2*x)\n",
      "make_frames(u)\n",
      "J.make_anim(plotdir,figsize=(8,4))"
     ],
     "language": "python",
     "metadata": {},
     "outputs": []
    },
    {
     "cell_type": "markdown",
     "metadata": {},
     "source": [
      "## Fourier sine series\n",
      "\n",
      "A general linear combination of all possible sine functions with integer values of $k$ is called a *Fourier sine series*,\n",
      "\n",
      "$$\n",
      "f(x) = \\sum_{k=1}^\\infty c_k \\sin(kx)\n",
      "$$\n",
      "\n",
      "For a given function $f(x)$ there's a simple formula to determine its Fourier coefficients, \n",
      "\n",
      "$$\n",
      "c_k = \\frac 2 \\pi \\int_0^\\pi f(x) \\sin(kx) \\,dx\n",
      "$$\n",
      "\n",
      "but it involves integrals that may not be be computable in closed form.  However, if you do know the Fourier sine series for the initial data $u_0(x) = u(x,t)$, then the solution to the heat equation can be written down in closed form in terms of a (generally infinite) series."
     ]
    },
    {
     "cell_type": "markdown",
     "metadata": {},
     "source": [
      "# Numerical methods\n",
      "\n",
      "One way to approximate the solution to this equation with more arbitrary initial data is to express the data as a Fourier series and use what we found above to determine the solution.  For some initial data functions this can be done analytically by taking the \"Fourier transform\".  For more complicated functions one can use the \"discrete Fourier transform\" based on discrete samples of the data to determine an approximate solution. (The famous Fast Fourier Transform (FFT) algorithm will compute the $n$ Fourier coefficients based on $n$ discrete data values in ${\\cal O}(n\\log n)$ time.)  This sort of numerical method is called a \"spectral method\" and for smooth initial data can give a very accurate solution.\n",
      "\n",
      "But here we will instead consider a \"finite difference method\", using the same approximation to the second derivative $u_{xx}$ used in Homework 4,\n",
      "\n",
      "$$\n",
      "u_{xx}(x_i, t_N) \\approx \\frac{U_{i-1}^N - 2U_i^N + U_{i+1}^N}{\\Delta x^2}.\n",
      "$$\n",
      "\n",
      "This has to be used with some time stepping method:  Given an approximate solution at all grid points at time $t_N$, we want to step forward to time $t_{N+1}$.  \n",
      "\n",
      "## Explicit numerical method\n",
      "\n",
      "A simple thing to try is the Forward Euler method, which we saw in lecture for an ODE $u'(t) = F(u(t))$ takes the form\n",
      "\n",
      "$$\n",
      "U^{N+1} = U^N + \\Delta t F(U^N)\n",
      "$$\n",
      "\n",
      "When applied to the heat equation, this gives the method\n",
      "\n",
      "$$\n",
      "U_i^{N+1} = U_i^N +  \\frac{\\Delta t}{\\Delta x^2} (U_{i-1}^N - 2U_i^N + U_{i+1}^N).\n",
      "$$\n",
      "\n",
      "If the interval $0 < x < \\pi$ is discretized with $x_i = i\\Delta x$ for $i=0,1,\\ldots,n+1$, with $\\Delta x = \\pi / (n+1)$, then the equation above is used to update $U_i^N$ at all interior points ($i=1,2,\\ldots,n$) while $U_0^N$ and $U_{n+1}^N$ are zero for all $N$.\n",
      "\n",
      "This is called an *explicit* method since we have an explicit formula to update each point based on past data.  We do not have to solve any linear system.  "
     ]
    },
    {
     "cell_type": "code",
     "collapsed": false,
     "input": [
      "def solve_heat_explicit(x, u0, t0, tfinal, nsteps):\n",
      "    \n",
      "    dt = (tfinal - t0) / float(nsteps)\n",
      "    n = len(x) - 2  # number of interior points\n",
      "    dx = x[1]-x[0]\n",
      "    dtdx2 = dt/dx**2\n",
      "    print \"dt / dx**2 = \", dtdx2\n",
      "    if dtdx2 > 0.5:\n",
      "        print \"*** Warning, the explicit method is not stable for dt / dx**2 > 0.5\"\n",
      "        \n",
      "    u = u0.copy()  # to leave u0 alone below\n",
      "    \n",
      "    for nstep in range(nsteps):\n",
      "        # define uxx of length n approximating second derivative at interior points:\n",
      "        uxx = (u[0:-2] - 2*u[1:-1] + u[2:]) / dx**2   \n",
      "        u[1:-1] = u[1:-1] + dt*uxx\n",
      "        \n",
      "    return u"
     ],
     "language": "python",
     "metadata": {},
     "outputs": []
    },
    {
     "cell_type": "markdown",
     "metadata": {},
     "source": [
      "Test it out..."
     ]
    },
    {
     "cell_type": "code",
     "collapsed": false,
     "input": [
      "k = 2.\n",
      "u_true = lambda x,t: exp(-k**2 * t) * sin(k*x)\n",
      "\n",
      "t0 = 0.\n",
      "tfinal = 0.2\n",
      "nsteps = 20\n",
      "n = 20\n",
      "x = linspace(0, pi, n+2)\n",
      "u0 = u_true(x, t0)\n",
      "plot(x,u0,'go-',label='initial u0')\n",
      "\n",
      "u = solve_heat_explicit(x, u0, t0, tfinal, nsteps)\n",
      "\n",
      "utrue_tfinal = u_true(x,tfinal)\n",
      "error = abs(u - utrue_tfinal).max()\n",
      "print \"Maximum error at final time is %8.4e\" % error\n",
      "\n",
      "plot(x,u,'bo-',label='computed')\n",
      "plot(x,utrue_tfinal,'r',label='exact')\n",
      "legend()\n",
      "ax = axis([0, pi, -1.2, 1.2])"
     ],
     "language": "python",
     "metadata": {},
     "outputs": []
    },
    {
     "cell_type": "markdown",
     "metadata": {},
     "source": [
      "Explicit methods are simple to implement, but do not always work so well.  In particular, it can be shown that the method above is only *stable* if the time step is small enough that $\\Delta t / \\Delta x^2 \\leq 1/2$.  \n",
      "\n",
      "This is easiest to observe if we take initial data that is not a single Fourier mode, e.g. $u(x,0) = x(\\pi - x)$.  Here are two experiments with different choices of $\\Delta t$:"
     ]
    },
    {
     "cell_type": "code",
     "collapsed": false,
     "input": [
      "t0 = 0.\n",
      "tfinal = 0.2\n",
      "n = 20\n",
      "x = linspace(0, pi, n+2)\n",
      "u0 = x * (pi - x)\n",
      "\n",
      "# stable:\n",
      "plot(x,u0,'go-')\n",
      "nsteps = 20\n",
      "u = solve_heat_explicit(x, u0, t0, tfinal, nsteps)\n",
      "plot(x,u,'bo-')\n",
      "ax = axis([0, pi, -4, 4])\n",
      "\n"
     ],
     "language": "python",
     "metadata": {},
     "outputs": []
    },
    {
     "cell_type": "code",
     "collapsed": false,
     "input": [
      "# unstable:\n",
      "plot(x,u0,'go-')\n",
      "nsteps = 10\n",
      "u = solve_heat_explicit(x, u0, t0, tfinal, nsteps)\n",
      "plot(x,u,'bo-')\n",
      "ax = axis([0, pi, -4, 4])"
     ],
     "language": "python",
     "metadata": {},
     "outputs": []
    },
    {
     "cell_type": "markdown",
     "metadata": {},
     "source": [
      "## Implicit method\n",
      "\n",
      "The explicit method requires $\\Delta t \\leq \\frac 1 2 \\Delta x^2$, which means we must take very small time steps if the spatial grid is finely resolved.  \n",
      "\n",
      "It is often much more efficient and equally accurate to instead use an *implicit* method, which requires solving a linear system at every time step but allows much larger time steps.\n",
      "\n",
      "One standard method for the heat equation is the *Crank-Nicolson* method, which is based on the ODE solver known as the Trapezoid rule for the ODE $u'(t) = F(t)$:\n",
      "\n",
      "$$\n",
      "U^{N+1} = U^N + \\frac{\\Delta t}{2} (F(U^N) + F(U^{N+1}).\n",
      "$$\n",
      "\n",
      "When applied to the heat equation, this gives:\n",
      "\n",
      "$$\n",
      "U_i^{N+1} = U_i^N +  \\frac{\\Delta t}{2\\Delta x^2} [(U_{i-1}^N - 2U_i^N + U_{i+1}^N) + (U_{i-1}^{N+1} - 2U_i^{N+1} + U_{i+1}^{N+1})].\n",
      "$$\n",
      "\n",
      "This can be rearranged to give a tridiagonal linear system of equations to solve in each time step, as implemented in the next function.  The matrix equation takes the form\n",
      "\n",
      "$$\n",
      "AU^{N+1} = BU^N\n",
      "$$\n",
      "\n",
      "where $U^N$ is the vector with $n$ components $U_1^N, \\ldots, U_n^N$ at the interior points and\n",
      "\n",
      "$$ \n",
      "A = I - \\frac{\\Delta t}{2} D_2, \\qquad B = I + \\frac{\\Delta t}{2} D_2\n",
      "$$\n",
      "\n",
      "and $D_2$ is the tridiagonal matrix approximating the second derivative operator.   The right hand side would be have to be modified if the boundary conditions were values other than $U_0=U_n=0$, but for this simple case they drop out.\n",
      "\n",
      "For $n=3$ the matrix $D_2$ is\n",
      "$$\n",
      "D_2 = \\frac{1}{\\Delta x^2} \\left[\\begin{array}{rrr} -2&1&0\\\\ 1&-2&1 \\\\ 0&1&-2 \\end{array}\\right]\n",
      "$$\n"
     ]
    },
    {
     "cell_type": "code",
     "collapsed": false,
     "input": [
      "def solve_heat_implicit(x, u0, t0, tfinal, nsteps):\n",
      "    \n",
      "    dt = (tfinal - t0) / float(nsteps)\n",
      "    n = len(x) - 2  # number of interior points\n",
      "    dx = x[1]-x[0]\n",
      "    dtdx2 = dt/dx**2\n",
      "    print \"dt / dx**2 = \", dtdx2\n",
      "        \n",
      "    u = u0.copy()  # leave u0 alone below\n",
      "    \n",
      "    # Form the matrix:\n",
      "    d1 = ones(n)\n",
      "    d0 = -2 * ones(n)\n",
      "    D2 = sparse.spdiags([d1,d0,d1], [-1,0,1],n,n,format='csc') / dx**2\n",
      "    I = sparse.eye(n)\n",
      "    \n",
      "    A = (I - 0.5*dt*D2)\n",
      "    B = (I + 0.5*dt*D2)\n",
      "    \n",
      "    for nstep in range(nsteps):\n",
      "        rhs = B*u[1:-1]\n",
      "        u[1:-1] = spsolve(A,rhs)\n",
      "        \n",
      "    return u"
     ],
     "language": "python",
     "metadata": {},
     "outputs": []
    },
    {
     "cell_type": "markdown",
     "metadata": {},
     "source": [
      "Try it out..."
     ]
    },
    {
     "cell_type": "code",
     "collapsed": false,
     "input": [
      "k = 2.\n",
      "u_true = lambda x,t: exp(-k**2 * t) * sin(k*x)\n",
      "\n",
      "t0 = 0.\n",
      "tfinal = 0.2\n",
      "nsteps =20\n",
      "n = 20\n",
      "x = linspace(0, pi, n+2)\n",
      "u0 = u_true(x, t0)\n",
      "plot(x,u0,'go-',label='initial u0')\n",
      "\n",
      "u = solve_heat_implicit(x, u0, t0, tfinal, nsteps)\n",
      "\n",
      "utrue_tfinal = u_true(x,tfinal)\n",
      "error = abs(u - utrue_tfinal).max()\n",
      "print \"Maximum error at final time is %8.4e\" % error\n",
      "\n",
      "plot(x,u,'bo-',label='computed')\n",
      "plot(x,utrue_tfinal,'r',label='exact')\n",
      "legend()\n",
      "ax = axis([0, pi, -1.2, 1.2])"
     ],
     "language": "python",
     "metadata": {},
     "outputs": []
    },
    {
     "cell_type": "markdown",
     "metadata": {},
     "source": [
      "The advantage of a numerical method is that we can approximate the solution for any smooth initial data, e.g."
     ]
    },
    {
     "cell_type": "code",
     "collapsed": false,
     "input": [
      "n = 100\n",
      "x = linspace(0, pi, n+2)\n",
      "u0 = x*(pi-x)*sin(x**2)*exp(0.1*x)  # some function of x as initial data\n",
      "plot(x,u0,'go-')\n",
      "\n",
      "t0 = 0.\n",
      "tfinal = 0.2\n",
      "nsteps = 100\n",
      "\n",
      "u = solve_heat_implicit(x, u0, t0, tfinal, nsteps)\n",
      "plot(x,u,'bo-')\n",
      "ax = axis([0, pi, -4, 4])"
     ],
     "language": "python",
     "metadata": {},
     "outputs": []
    }
   ],
   "metadata": {}
  }
 ]
}