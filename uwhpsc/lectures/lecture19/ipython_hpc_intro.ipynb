{
 "metadata": {
  "name": "ipython_hpc_intro"
 },
 "nbformat": 3,
 "nbformat_minor": 0,
 "worksheets": [
  {
   "cells": [
    {
     "cell_type": "heading",
     "level": 2,
     "metadata": {},
     "source": [
      "Introduction to parallel computing with IPython"
     ]
    },
    {
     "cell_type": "markdown",
     "metadata": {},
     "source": [
      "* Credits for a [prior version of this document go to Skipper Seabold](http://github.com/jseabold/zorro-talk)\n",
      "* Most of this presentation is taken from the [IPython parallel computing documentation](http://ipython.org/ipython-doc/dev/parallel/)\n",
      "* And from talks given over the years by the core development team of [@minrk](https://twitter.com/minrk), [@ellisonbg](https://twitter.com/ellisonbg), and [@fperez_org](https://twitter.com/fperez), among many others\n",
      "* IPython is well [documented](http://ipython.org/), including [video tutorials](http://ipython.org/videos.html)\n",
      "* There is a great support network for IPython on [stackoverflow](http://stackoverflow.com/questions/tagged/ipython) and on their [mailing list](http://mail.scipy.org/mailman/listinfo/ipython-user)\n",
      "* This talk is created using the [IPython Notebook](http://ipython.org/notebook.html), which also support parallelism"
     ]
    },
    {
     "cell_type": "code",
     "collapsed": false,
     "input": [
      "%pylab inline\n",
      "import numpy as np\n",
      "import matplotlib.pyplot as plt"
     ],
     "language": "python",
     "metadata": {},
     "outputs": [
      {
       "output_type": "stream",
       "stream": "stdout",
       "text": [
        "\n",
        "Welcome to pylab, a matplotlib-based Python environment [backend: module://IPython.kernel.zmq.pylab.backend_inline].\n",
        "For more information, type 'help(pylab)'.\n"
       ]
      }
     ],
     "prompt_number": 1
    },
    {
     "cell_type": "heading",
     "level": 3,
     "metadata": {},
     "source": [
      "Architecture"
     ]
    },
    {
     "cell_type": "code",
     "collapsed": false,
     "input": [
      "from IPython.core.display import Image\n",
      "Image(\"parallel_architecture400.png\")"
     ],
     "language": "python",
     "metadata": {},
     "outputs": [
      {
       "metadata": {},
       "output_type": "pyout",
       "png": "[encoded data removed]",
       "prompt_number": 2,
       "text": [
        "<IPython.core.display.Image at 0x280b810>"
       ]
      }
     ],
     "prompt_number": 2
    },
    {
     "cell_type": "markdown",
     "metadata": {},
     "source": [
      "Three Core Parts\n",
      "\n",
      "1. The **Client**\n",
      "   - This is what you use to run your parallel computations\n",
      "   - You will interact with a **View** on the client \n",
      "   - The type of View depends on the execution model you are using\n",
      "2. The **Controller**\n",
      "   - The IPython controller consists of 1) the **Hub** and 2) the **schedulers**\n",
      "   - The **Hub** is the central process that monitors everything\n",
      "   - The **schedulers** take care of getting of getting your code where it should go\n",
      "   - The controller is the go between from the Client to the Engines\n",
      "3. The **Engine**\n",
      "   - An IPython \"kernel\" where the code is executed\n",
      "   - Listens for instructions over a network connection"
     ]
    },
    {
     "cell_type": "heading",
     "level": 4,
     "metadata": {},
     "source": [
      "IPython client and views"
     ]
    },
    {
     "cell_type": "markdown",
     "metadata": {},
     "source": [
      "* The **`Client`** object connects to the cluster\n",
      "* For each execution model there is a corresponding **`View`**\n",
      "* For example, there are two basic views:\n",
      "  - The `DirectView` class for explicitly running code on a particular engine(s)\n",
      "  - The `LoadBalancedView` class for running your code on the 'best' engine(s)\n",
      "* You can use as many views as you like, many at the same time\n",
      "* You can read much more about the details of IPython parallel and views in the [documentation](http://ipython.org/ipython-doc/dev/parallel/parallel_details.html)"
     ]
    },
    {
     "cell_type": "heading",
     "level": 2,
     "metadata": {},
     "source": [
      "Getting Started"
     ]
    },
    {
     "cell_type": "markdown",
     "metadata": {},
     "source": [
      "* Take advantage of multiple the processors on your local machine\n",
      "* Say you have 4 processors\n",
      "* How many processors do I have available?"
     ]
    },
    {
     "cell_type": "code",
     "collapsed": false,
     "input": [
      "from multiprocessing import cpu_count\n",
      "print cpu_count()"
     ],
     "language": "python",
     "metadata": {},
     "outputs": [
      {
       "output_type": "stream",
       "stream": "stdout",
       "text": [
        "4\n"
       ]
      }
     ],
     "prompt_number": 3
    },
    {
     "cell_type": "markdown",
     "metadata": {},
     "source": [
      "* Start a controller and 4 engines with **ipcluster**\n",
      "* At the command line type\n",
      "\n",
      "    `ipcluster start -n 4`\n",
      "<br /><br />\n",
      "* Or, in the notebook at the dashboard"
     ]
    },
    {
     "cell_type": "heading",
     "level": 4,
     "metadata": {},
     "source": [
      "Did it work?"
     ]
    },
    {
     "cell_type": "code",
     "collapsed": false,
     "input": [
      "from IPython import parallel\n",
      "\n",
      "rc = parallel.Client()\n",
      "rc.block = True"
     ],
     "language": "python",
     "metadata": {},
     "outputs": [],
     "prompt_number": 4
    },
    {
     "cell_type": "code",
     "collapsed": false,
     "input": [
      "def power(a, b):\n",
      "    return a**b"
     ],
     "language": "python",
     "metadata": {},
     "outputs": [],
     "prompt_number": 5
    },
    {
     "cell_type": "markdown",
     "metadata": {},
     "source": [
      "* Create a `direct view` of kernel 0\n",
      "* Direct views support slicing"
     ]
    },
    {
     "cell_type": "code",
     "collapsed": false,
     "input": [
      "dv = rc[0]\n",
      "dv"
     ],
     "language": "python",
     "metadata": {},
     "outputs": [
      {
       "metadata": {},
       "output_type": "pyout",
       "prompt_number": 6,
       "text": [
        "<DirectView 0>"
       ]
      }
     ],
     "prompt_number": 6
    },
    {
     "cell_type": "code",
     "collapsed": false,
     "input": [
      "dv.apply(power, 2, 10)"
     ],
     "language": "python",
     "metadata": {},
     "outputs": [
      {
       "metadata": {},
       "output_type": "pyout",
       "prompt_number": 7,
       "text": [
        "1024"
       ]
      }
     ],
     "prompt_number": 7
    },
    {
     "cell_type": "markdown",
     "metadata": {},
     "source": [
      "Recall that slice notation allows you leave out start and stop steps"
     ]
    },
    {
     "cell_type": "code",
     "collapsed": false,
     "input": [
      "X = [1, 2, 3, 4]\n",
      "X"
     ],
     "language": "python",
     "metadata": {},
     "outputs": [
      {
       "metadata": {},
       "output_type": "pyout",
       "prompt_number": 8,
       "text": [
        "[1, 2, 3, 4]"
       ]
      }
     ],
     "prompt_number": 8
    },
    {
     "cell_type": "code",
     "collapsed": false,
     "input": [
      "X[:]"
     ],
     "language": "python",
     "metadata": {},
     "outputs": [
      {
       "metadata": {},
       "output_type": "pyout",
       "prompt_number": 9,
       "text": [
        "[1, 2, 3, 4]"
       ]
      }
     ],
     "prompt_number": 9
    },
    {
     "cell_type": "markdown",
     "metadata": {},
     "source": [
      "Use this to send code to all the engines"
     ]
    },
    {
     "cell_type": "code",
     "collapsed": false,
     "input": [
      "rc[:].apply_sync(power, 2, 10)"
     ],
     "language": "python",
     "metadata": {},
     "outputs": [
      {
       "metadata": {},
       "output_type": "pyout",
       "prompt_number": 10,
       "text": [
        "[1024, 1024, 1024, 1024]"
       ]
      }
     ],
     "prompt_number": 10
    },
    {
     "cell_type": "markdown",
     "metadata": {},
     "source": [
      "Python's built-in map function allows you to call a sequence a function over a sequences of arguments"
     ]
    },
    {
     "cell_type": "code",
     "collapsed": false,
     "input": [
      "map(power, [2]*10, range(10))"
     ],
     "language": "python",
     "metadata": {},
     "outputs": [
      {
       "metadata": {},
       "output_type": "pyout",
       "prompt_number": 11,
       "text": [
        "[1, 2, 4, 8, 16, 32, 64, 128, 256, 512]"
       ]
      }
     ],
     "prompt_number": 11
    },
    {
     "cell_type": "markdown",
     "metadata": {},
     "source": [
      "In parallel, you use view.map"
     ]
    },
    {
     "cell_type": "code",
     "collapsed": false,
     "input": [
      "view = rc.load_balanced_view()\n",
      "view.map(power, [2]*10, range(10))"
     ],
     "language": "python",
     "metadata": {},
     "outputs": [
      {
       "metadata": {},
       "output_type": "pyout",
       "prompt_number": 12,
       "text": [
        "[1, 2, 4, 8, 16, 32, 64, 128, 256, 512]"
       ]
      }
     ],
     "prompt_number": 12
    },
    {
     "cell_type": "heading",
     "level": 3,
     "metadata": {},
     "source": [
      "The Direct Interface"
     ]
    },
    {
     "cell_type": "markdown",
     "metadata": {},
     "source": [
      "* The direct interface lets the user interact explicitly with each engine\n",
      "* First, create a direct view"
     ]
    },
    {
     "cell_type": "code",
     "collapsed": false,
     "input": [
      "from IPython import parallel\n",
      "\n",
      "rc = parallel.Client()"
     ],
     "language": "python",
     "metadata": {},
     "outputs": [],
     "prompt_number": 13
    },
    {
     "cell_type": "markdown",
     "metadata": {},
     "source": [
      "* Above we saw the use of `map` and `apply` in parallel\n",
      "* You may have also noticed this bit of code"
     ]
    },
    {
     "cell_type": "code",
     "collapsed": false,
     "input": [
      "rc.block = True"
     ],
     "language": "python",
     "metadata": {},
     "outputs": [],
     "prompt_number": 14
    },
    {
     "cell_type": "markdown",
     "metadata": {},
     "source": [
      "* In blocking mode, whenever you call execute code on the engines the controller waits until this code is done executing\n",
      "* Non-blocking mode is the default"
     ]
    },
    {
     "cell_type": "markdown",
     "metadata": {},
     "source": [
      "* Get access to all the engines"
     ]
    },
    {
     "cell_type": "code",
     "collapsed": false,
     "input": [
      "dview = rc[:]"
     ],
     "language": "python",
     "metadata": {},
     "outputs": [],
     "prompt_number": 15
    },
    {
     "cell_type": "markdown",
     "metadata": {},
     "source": [
      "* You can block on a call-by-call basis as well, by using apply_sync for synchronous execution"
     ]
    },
    {
     "cell_type": "code",
     "collapsed": false,
     "input": [
      "dview.block = False\n",
      "\n",
      "dview[\"a\"] = 5 # shorthand for push\n",
      "dview[\"b\"] = 7\n",
      "\n",
      "dview.apply_sync(lambda x: a + b + x, 27)"
     ],
     "language": "python",
     "metadata": {},
     "outputs": [
      {
       "metadata": {},
       "output_type": "pyout",
       "prompt_number": 16,
       "text": [
        "[39, 39, 39, 39]"
       ]
      }
     ],
     "prompt_number": 16
    },
    {
     "cell_type": "markdown",
     "metadata": {},
     "source": [
      "* There is also `apply_async`\n",
      "* Above you'll notice that the assignments defined these variables on the engines in a dictionary-like manner\n",
      "* This is shorthand for `push`ing python objects to the engines\n",
      "* DirectViews provide dictionary-like access by `key` or by using `get` and `update` like built-in dicts\n",
      "* This can also be done explicitly with `push`\n",
      "* `push` takes a dictionary"
     ]
    },
    {
     "cell_type": "code",
     "collapsed": false,
     "input": [
      "dview.push(dict(msg=\"Hi, there\"), block=True)"
     ],
     "language": "python",
     "metadata": {},
     "outputs": [
      {
       "metadata": {},
       "output_type": "pyout",
       "prompt_number": 17,
       "text": [
        "[None, None, None, None]"
       ]
      }
     ],
     "prompt_number": 17
    },
    {
     "cell_type": "code",
     "collapsed": false,
     "input": [
      "dview.block = True"
     ],
     "language": "python",
     "metadata": {},
     "outputs": [],
     "prompt_number": 18
    },
    {
     "cell_type": "markdown",
     "metadata": {},
     "source": [
      "* Python commands can be executed as strings on specific engines"
     ]
    },
    {
     "cell_type": "code",
     "collapsed": false,
     "input": [
      "dview.execute(\"x = msg\")"
     ],
     "language": "python",
     "metadata": {},
     "outputs": [
      {
       "metadata": {},
       "output_type": "pyout",
       "prompt_number": 19,
       "text": [
        "<AsyncResult: finished>"
       ]
      }
     ],
     "prompt_number": 19
    },
    {
     "cell_type": "markdown",
     "metadata": {},
     "source": [
      "Or using the interactive `%px` magic, short for \"parallel execute\""
     ]
    },
    {
     "cell_type": "code",
     "collapsed": false,
     "input": [
      "%px y = msg + ' you'"
     ],
     "language": "python",
     "metadata": {},
     "outputs": [],
     "prompt_number": 20
    },
    {
     "cell_type": "code",
     "collapsed": false,
     "input": [
      "print dview[\"x\"] # shorthand for pull\n",
      "print dview[\"y\"]"
     ],
     "language": "python",
     "metadata": {},
     "outputs": [
      {
       "output_type": "stream",
       "stream": "stdout",
       "text": [
        "['Hi, there', 'Hi, there', 'Hi, there', 'Hi, there']\n",
        "['Hi, there you', 'Hi, there you', 'Hi, there you', 'Hi, there you']\n"
       ]
      }
     ],
     "prompt_number": 21
    },
    {
     "cell_type": "markdown",
     "metadata": {},
     "source": [
      "* You can also pull results back from the engine"
     ]
    },
    {
     "cell_type": "code",
     "collapsed": false,
     "input": [
      "rc[::2].execute(\"c = a + b\")\n",
      "rc[1::2].execute(\"c = a - b\")"
     ],
     "language": "python",
     "metadata": {},
     "outputs": [
      {
       "metadata": {},
       "output_type": "pyout",
       "prompt_number": 22,
       "text": [
        "<AsyncResult: finished>"
       ]
      }
     ],
     "prompt_number": 22
    },
    {
     "cell_type": "code",
     "collapsed": false,
     "input": [
      "dview.pull(\"c\")"
     ],
     "language": "python",
     "metadata": {},
     "outputs": [
      {
       "metadata": {},
       "output_type": "pyout",
       "prompt_number": 23,
       "text": [
        "[12, -2, 12, -2]"
       ]
      }
     ],
     "prompt_number": 23
    },
    {
     "cell_type": "markdown",
     "metadata": {},
     "source": [
      "* If we were working in non-blocking mode, we would get an [`AsyncResult` object](http://ipython.org/ipython-doc/dev/parallel/asyncresult.html) back immediately"
     ]
    },
    {
     "cell_type": "code",
     "collapsed": false,
     "input": [
      "def wait(t):\n",
      "    import time\n",
      "    tic = time.time()\n",
      "    time.sleep(t)\n",
      "    return time.time() - tic"
     ],
     "language": "python",
     "metadata": {},
     "outputs": [],
     "prompt_number": 24
    },
    {
     "cell_type": "code",
     "collapsed": false,
     "input": [
      "ar = dview.apply_async(wait, 2)"
     ],
     "language": "python",
     "metadata": {},
     "outputs": [],
     "prompt_number": 25
    },
    {
     "cell_type": "code",
     "collapsed": false,
     "input": [
      "type(ar)"
     ],
     "language": "python",
     "metadata": {},
     "outputs": [
      {
       "metadata": {},
       "output_type": "pyout",
       "prompt_number": 26,
       "text": [
        "IPython.parallel.client.asyncresult.AsyncResult"
       ]
      }
     ],
     "prompt_number": 26
    },
    {
     "cell_type": "markdown",
     "metadata": {},
     "source": [
      "* We use its get method to get the result\n",
      "* Calling get blocks"
     ]
    },
    {
     "cell_type": "code",
     "collapsed": false,
     "input": [
      "ar.get()"
     ],
     "language": "python",
     "metadata": {},
     "outputs": [
      {
       "metadata": {},
       "output_type": "pyout",
       "prompt_number": 27,
       "text": [
        "[2.0022220611572266,\n",
        " 2.0020439624786377,\n",
        " 2.0007009506225586,\n",
        " 2.0022499561309814]"
       ]
      }
     ],
     "prompt_number": 27
    },
    {
     "cell_type": "markdown",
     "metadata": {},
     "source": [
      "* If we weren't quite so patient, we could ask if our tasks are done by using the `ready` method"
     ]
    },
    {
     "cell_type": "code",
     "collapsed": false,
     "input": [
      "ar = dview.apply_async(wait, 15)\n",
      "\n",
      "print ar.ready()"
     ],
     "language": "python",
     "metadata": {},
     "outputs": [
      {
       "output_type": "stream",
       "stream": "stdout",
       "text": [
        "False\n"
       ]
      }
     ],
     "prompt_number": 28
    },
    {
     "cell_type": "markdown",
     "metadata": {},
     "source": [
      "* Or we can ask for the result, waiting a maximum of, say, 5 seconds"
     ]
    },
    {
     "cell_type": "code",
     "collapsed": false,
     "input": [
      "ar.get(5)"
     ],
     "language": "python",
     "metadata": {},
     "outputs": [
      {
       "ename": "TimeoutError",
       "evalue": "Result not ready.",
       "output_type": "pyerr",
       "traceback": [
        "\u001b[1;31m---------------------------------------------------------------------------\u001b[0m\n\u001b[1;31mTimeoutError\u001b[0m                              Traceback (most recent call last)",
        "\u001b[1;32m<ipython-input-29-8ed98da2cafb>\u001b[0m in \u001b[0;36m<module>\u001b[1;34m()\u001b[0m\n\u001b[1;32m----> 1\u001b[1;33m \u001b[0mar\u001b[0m\u001b[1;33m.\u001b[0m\u001b[0mget\u001b[0m\u001b[1;33m(\u001b[0m\u001b[1;36m5\u001b[0m\u001b[1;33m)\u001b[0m\u001b[1;33m\u001b[0m\u001b[0m\n\u001b[0m",
        "\u001b[1;32m/home/fperez/usr/lib/python2.7/site-packages/IPython/parallel/client/asyncresult.pyc\u001b[0m in \u001b[0;36mget\u001b[1;34m(self, timeout)\u001b[0m\n\u001b[0;32m    126\u001b[0m                 \u001b[1;32mraise\u001b[0m \u001b[0mself\u001b[0m\u001b[1;33m.\u001b[0m\u001b[0m_exception\u001b[0m\u001b[1;33m\u001b[0m\u001b[0m\n\u001b[0;32m    127\u001b[0m         \u001b[1;32melse\u001b[0m\u001b[1;33m:\u001b[0m\u001b[1;33m\u001b[0m\u001b[0m\n\u001b[1;32m--> 128\u001b[1;33m             \u001b[1;32mraise\u001b[0m \u001b[0merror\u001b[0m\u001b[1;33m.\u001b[0m\u001b[0mTimeoutError\u001b[0m\u001b[1;33m(\u001b[0m\u001b[1;34m\"Result not ready.\"\u001b[0m\u001b[1;33m)\u001b[0m\u001b[1;33m\u001b[0m\u001b[0m\n\u001b[0m\u001b[0;32m    129\u001b[0m \u001b[1;33m\u001b[0m\u001b[0m\n\u001b[0;32m    130\u001b[0m     \u001b[1;32mdef\u001b[0m \u001b[0m_check_ready\u001b[0m\u001b[1;33m(\u001b[0m\u001b[0mself\u001b[0m\u001b[1;33m)\u001b[0m\u001b[1;33m:\u001b[0m\u001b[1;33m\u001b[0m\u001b[0m\n",
        "\u001b[1;31mTimeoutError\u001b[0m: Result not ready."
       ]
      }
     ],
     "prompt_number": 29
    },
    {
     "cell_type": "markdown",
     "metadata": {},
     "source": [
      "* Often, we can't go on until some results are done\n",
      "* For this, we can use the `wait` method\n",
      "* `wait` can take an iterable of `AsyncResults`"
     ]
    },
    {
     "cell_type": "code",
     "collapsed": false,
     "input": [
      "result_list = [dview.apply_async(wait, 1) for i in range(8)]"
     ],
     "language": "python",
     "metadata": {},
     "outputs": [],
     "prompt_number": 30
    },
    {
     "cell_type": "code",
     "collapsed": false,
     "input": [
      "dview.wait(result_list)"
     ],
     "language": "python",
     "metadata": {},
     "outputs": [
      {
       "metadata": {},
       "output_type": "pyout",
       "prompt_number": 31,
       "text": [
        "True"
       ]
      }
     ],
     "prompt_number": 31
    },
    {
     "cell_type": "code",
     "collapsed": false,
     "input": [
      "result_list[0].get()"
     ],
     "language": "python",
     "metadata": {},
     "outputs": [
      {
       "metadata": {},
       "output_type": "pyout",
       "prompt_number": 32,
       "text": [
        "[1.0011539459228516,\n",
        " 1.0010430812835693,\n",
        " 1.0004119873046875,\n",
        " 1.0010390281677246]"
       ]
      }
     ],
     "prompt_number": 32
    },
    {
     "cell_type": "heading",
     "level": 3,
     "metadata": {},
     "source": [
      "Connecting directly to your engines"
     ]
    },
    {
     "cell_type": "markdown",
     "metadata": {},
     "source": [
      "Every IPython engine can be turned into a kernel in one command:"
     ]
    },
    {
     "cell_type": "code",
     "collapsed": false,
     "input": [
      "%%px\n",
      "from IPython.parallel import bind_kernel\n",
      "bind_kernel()"
     ],
     "language": "python",
     "metadata": {},
     "outputs": [],
     "prompt_number": 33
    },
    {
     "cell_type": "markdown",
     "metadata": {},
     "source": [
      "Let's send the engine IDs to all of them"
     ]
    },
    {
     "cell_type": "code",
     "collapsed": false,
     "input": [
      "dview.scatter('eid', rc.ids, flatten=True)"
     ],
     "language": "python",
     "metadata": {},
     "outputs": [],
     "prompt_number": 34
    },
    {
     "cell_type": "markdown",
     "metadata": {},
     "source": [
      "And open a console directly on one of them:"
     ]
    },
    {
     "cell_type": "code",
     "collapsed": false,
     "input": [
      "rc[0].execute(\"%qtconsole\")"
     ],
     "language": "python",
     "metadata": {},
     "outputs": [
      {
       "metadata": {},
       "output_type": "pyout",
       "prompt_number": 35,
       "text": [
        "<AsyncResult: finished>"
       ]
      }
     ],
     "prompt_number": 35
    },
    {
     "cell_type": "heading",
     "level": 4,
     "metadata": {},
     "source": [
      "Scatter and Gather"
     ]
    },
    {
     "cell_type": "markdown",
     "metadata": {},
     "source": [
      "* You can use `scatter` to partition an iterable across engines\n",
      "* `gather` pulls the results back\n",
      "* You can use this to do parallel list comprehensions as below\n",
      "* Sometimes this is more convenient than map"
     ]
    },
    {
     "cell_type": "code",
     "collapsed": false,
     "input": [
      "dview.scatter('x', range(64))\n",
      "\n",
      "%px y = [i**10 for i in x]\n",
      "\n",
      "y = dview.gather('y')\n",
      "\n",
      "print y[:10]"
     ],
     "language": "python",
     "metadata": {},
     "outputs": [
      {
       "output_type": "stream",
       "stream": "stdout",
       "text": [
        "[0, 1, 1024, 59049, 1048576, 9765625, 60466176, 282475249, 1073741824, 3486784401]\n"
       ]
      }
     ],
     "prompt_number": 36
    },
    {
     "cell_type": "markdown",
     "metadata": {},
     "source": [
      "* The `%` indicates that we are using an [IPython 'magic' function](http://ipython.org/ipython-doc/dev/interactive/tutorial.html#magic-functions)\n",
      "* The availabel parallel magics are listed in the [documentation](http://ipython.org/ipython-doc/dev/parallel/magics.html)"
     ]
    },
    {
     "cell_type": "heading",
     "level": 3,
     "metadata": {},
     "source": [
      "The Task Interface"
     ]
    },
    {
     "cell_type": "markdown",
     "metadata": {},
     "source": [
      "* [The Task interface](http://ipython.org/ipython-doc/dev/parallel/parallel_task.html) allows you to use your the engines as a system of workers\n",
      "* You no longer have direct access to the individual engines\n",
      "* If your tasks are easily segmented into pieces that do not depend on each other, the Task Interface may be ideal\n",
      "* *However*, you can specify complex dependencies to describe task execution order\n",
      "* You can use many standard scheduling paradigms for how tasks should be run or define your own\n",
      "* I am not going to discuss the task interface in detail"
     ]
    },
    {
     "cell_type": "code",
     "collapsed": false,
     "input": [
      "rc = parallel.Client()\n",
      "\n",
      "lview = rc.load_balanced_view()"
     ],
     "language": "python",
     "metadata": {},
     "outputs": [],
     "prompt_number": 37
    },
    {
     "cell_type": "code",
     "collapsed": false,
     "input": [
      "lview.block = True\n",
      "\n",
      "parallel_result = lview.map(lambda x:x**10, range(32))\n",
      "\n",
      "print parallel_result[:10]"
     ],
     "language": "python",
     "metadata": {},
     "outputs": [
      {
       "output_type": "stream",
       "stream": "stdout",
       "text": [
        "[0, 1, 1024, 59049, 1048576, 9765625, 60466176, 282475249, 1073741824, 3486784401]\n"
       ]
      }
     ],
     "prompt_number": 38
    },
    {
     "cell_type": "heading",
     "level": 4,
     "metadata": {},
     "source": [
      "There's much more"
     ]
    },
    {
     "cell_type": "markdown",
     "metadata": {},
     "source": [
      "* [Parallel](http://ipython.org/ipython-doc/dev/parallel/parallel_multiengine.html#remote-function-decorators) [function](http://ipython.org/ipython-doc/stable/parallel/parallel_task.html#parallel-function-decorator) [decorators](http://ipython.org/ipython-doc/dev/parallel/parallel_details.html#decorators-and-remotefunctions)\n",
      "* [Using MPI for message passing](http://ipython.org/ipython-doc/dev/parallel/parallel_mpi.html) (or pyzmq)\n",
      "* [Enabling database backends for storing information on running jobs to disk](http://ipython.org/ipython-doc/dev/parallel/parallel_db.html)\n",
      "* [DAGs for tasks](http://ipython.org/ipython-doc/dev/parallel/dag_dependencies.html)"
     ]
    }
   ],
   "metadata": {}
  }
 ]
}