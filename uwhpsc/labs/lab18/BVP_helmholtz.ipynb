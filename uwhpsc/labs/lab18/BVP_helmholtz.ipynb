{
 "metadata": {
  "name": "",
  "signature": "sha256:38d6d5c3e0fd041b9e027677e5412dd8a428d93fe097157a13db1dd0caa946a0"
 },
 "nbformat": 3,
 "nbformat_minor": 0,
 "worksheets": [
  {
   "cells": [
    {
     "cell_type": "markdown",
     "metadata": {},
     "source": [
      "# Sample Helmholtz solver\n",
      "\n",
      "This is a sample solution to the Lab 18 problem of converting a Poisson solver into a Helmholtz solver.\n",
      "\n",
      "From <http://faculty.washington.edu/rjl/classes/am583s2014/notes/labs/lab18.html>, R. J. LeVeque"
     ]
    },
    {
     "cell_type": "code",
     "collapsed": false,
     "input": [
      "%pylab inline"
     ],
     "language": "python",
     "metadata": {},
     "outputs": []
    },
    {
     "cell_type": "code",
     "collapsed": false,
     "input": [
      "from scipy import sparse  # to define sparse matrices\n",
      "from scipy.sparse.linalg import spsolve   # to solve sparse systems"
     ],
     "language": "python",
     "metadata": {},
     "outputs": []
    },
    {
     "cell_type": "markdown",
     "metadata": {},
     "source": [
      "## Direct solver for the boundary value problem\n",
      "\n",
      "The boundary value problem $u''(x) + k^2 u(x) = -f(x)$ is discretized to get the linear system of equations $U_{i-1} - 2U_i + U_{i+1} + k^2\\Delta x^2 U_i = -\\Delta x^2 f(x_i)$ for $i = 1, ~2,~\\ldots,~n$.  Recall that $U_0$ and $U_{n+1}$ are specified by the two boundary conditions required for this problem.\n",
      "\n",
      "This function solves the BVP directly by setting up a tridiagonal matrix and using spsolve to efficiently solve the system."
     ]
    },
    {
     "cell_type": "code",
     "collapsed": false,
     "input": [
      "def solve_BVP_direct(f,x,u_left,u_right,k):\n",
      "    \"\"\"\n",
      "    On input:\n",
      "    f should be the function defining the ODE  u''(x) = f(x),\n",
      "    x should be an array of equally spaced points where the \n",
      "        solution is to be computed,\n",
      "    u_left should be the boundary condition at the left edge x[0],\n",
      "    u_right should be the boundary condition at the right edge x[-1],\n",
      "    \n",
      "    Returns: \n",
      "    u, vector of approximate values to solution at the points x.\n",
      "    \"\"\"\n",
      "    \n",
      "    n = len(x) - 2  # number of interior points\n",
      "    print \"Solving tridiagonal system with n =%4i\" % n\n",
      "    dx = x[1]-x[0]\n",
      "    \n",
      "    # Form the matrix:\n",
      "    d1 = ones(n)\n",
      "    d0 = (k**2 * dx**2 - 2) * ones(n) \n",
      "    A = sparse.spdiags([d1,d0,d1], [-1,0,1],n,n,format='csc')\n",
      "    \n",
      "    # Form the right-hand side\n",
      "    fx = f(x)\n",
      "    rhs = -dx**2 * fx[1:-1] \n",
      "    rhs[0] = rhs[0] - u_left  \n",
      "    rhs[-1] = rhs[-1] - u_right\n",
      "    \n",
      "    # Solve the system for the interior points:\n",
      "    u_int = spsolve(A,rhs)   # vector of length n-2\n",
      "    \n",
      "    # Append the known boundary values:\n",
      "    u = hstack((u_left, u_int, u_right)) \n",
      "    return u"
     ],
     "language": "python",
     "metadata": {},
     "outputs": []
    },
    {
     "cell_type": "markdown",
     "metadata": {},
     "source": [
      "Define a function to compare the computed solution to the true solution:"
     ]
    },
    {
     "cell_type": "code",
     "collapsed": false,
     "input": [
      "def check_solution(x,u,u_true):\n",
      "    # u should be a vector of approximate solution values at the points x\n",
      "    # u_true should be a function defining the true solution.\n",
      "    plot(x,u,'ro')\n",
      "    plot(x,u_true(x),'b')\n",
      "    error = u - u_true(x)\n",
      "    error_max = abs(abs(error)).max()\n",
      "    print \"Maximum error is %10.3e\" % error_max"
     ],
     "language": "python",
     "metadata": {},
     "outputs": []
    },
    {
     "cell_type": "markdown",
     "metadata": {},
     "source": [
      "To test this out, define the function $f(x)$ and the true solution, and set the boundary values.  "
     ]
    },
    {
     "cell_type": "code",
     "collapsed": false,
     "input": [
      "k = 15.\n",
      "u_left = 2.\n",
      "u_right = -1.\n",
      "c1 = u_left\n",
      "c2 = (u_right - c1*cos(k)) / sin(k)\n",
      "print \"c1 = %g, c2 = %g\" % (c1,c2)\n",
      "f = lambda x: 0. * x\n",
      "u_true = lambda x: c1 * cos(k*x) + c2 * sin(k*x)\n",
      "\n",
      "\n",
      "n = 50  # number of interior points\n",
      "x = linspace(0, 1, n+2)\n",
      "u = solve_BVP_direct(f,x,u_left,u_right,k)\n",
      "\n",
      "check_solution(x,u,u_true)"
     ],
     "language": "python",
     "metadata": {},
     "outputs": []
    },
    {
     "cell_type": "code",
     "collapsed": false,
     "input": [
      "nvals = 10*array([10,20,40,80,160])\n",
      "errors = zeros(nvals.shape)\n",
      "for j,n in enumerate(nvals):\n",
      "    x = linspace(0, 1, n+2)\n",
      "    u = solve_BVP_direct(f,x,u_left,u_right,k)\n",
      "    errors[j] = abs(u - u_true(x)).max()   # maximum abs error over interval\n",
      "\n",
      "print \"\\n   n         error\"\n",
      "for j,n in enumerate(nvals):\n",
      "    print \"%4i  %15.9f\" % (n,errors[j])\n",
      "loglog(nvals,errors,'o-')"
     ],
     "language": "python",
     "metadata": {},
     "outputs": []
    },
    {
     "cell_type": "markdown",
     "metadata": {},
     "source": [
      "## Divide and conquer approach to solving the BVP\n",
      "\n",
      "Suppose we have 2 threads available and wish to parallelize the solution to the BVP.  Solving a tridiagonal system by Gauss Elimination is inherently quite sequential, but we can try the following approach. Suppose we knew the value of the solution at the midpoint of the interval.  Then we could solve 2 disjoint BVPs, one on the left half and one on the right half.  In principle the two could be solved in parallel.  \n",
      "\n",
      "The problem is that we don't know the solution at the midpoint in general.  But for this simple test problem we can try evaluating the exact solution at the midpoint to try this out..."
     ]
    },
    {
     "cell_type": "code",
     "collapsed": false,
     "input": [
      "def solve_BVP_split(f,x,u_left,u_right,k):\n",
      "    n2 = len(x)\n",
      "    nmid = int(floor(n2/2.))\n",
      "    xhalf1 = x[:nmid+1]\n",
      "    xhalf2 = x[nmid:]\n",
      "    u_mid = u_true(x[nmid])  # Assumes we know true solution!!\n",
      "    print \"u_mid = \",u_mid\n",
      "    uhalf1 = solve_BVP_direct(f,xhalf1,u_left,u_mid,k)\n",
      "    uhalf2 = solve_BVP_direct(f,xhalf2,u_mid,u_right,k)\n",
      "    u = hstack((uhalf1, uhalf2[1:]))\n",
      "    return u"
     ],
     "language": "python",
     "metadata": {},
     "outputs": []
    },
    {
     "cell_type": "code",
     "collapsed": false,
     "input": [
      "x = linspace(0, 1, 51)\n",
      "u = solve_BVP_split(f,x,u_left,u_right,k)\n",
      "check_solution(x,u,u_true)"
     ],
     "language": "python",
     "metadata": {},
     "outputs": []
    },
    {
     "cell_type": "markdown",
     "metadata": {},
     "source": [
      "Unfortunately, for this to work we need to know the solution in the middle.  We do for this simple test problem but for a practical problem we would not.  If you change the code defining `solve_BVP_split` above to set `u_mid` to some other arbitrary value, you will find that the solutions on each half do not match up smoothly and so the equation $u''(x) = -f(x)$ will not be satisfied at the midpoint.  \n",
      "\n",
      "Note that the finite difference equation at the midpoint is not being imposed.  The equation $U_{i-1} - 2U_i + U_{i+1} = -\\Delta x^2 f(x_i)$ is solved for $i=1,~2,~\\ldots,nmid-1$ and for $i=nmid+1,~\\ldots,~n$, but not at `i = nmid`. \n",
      "\n",
      "This suggests an approach in which we guess the midpoint value, solve the two BVPs, and then determine the mismatch in the missing equation that we need to have satisfied at the midpoint.  If this is non-zero then we can try to define a way to improve it, perhaps an iterative method, to drive the mismatch to zero.\n",
      "\n",
      "First let's see how the mismatch varies as we change the guess for `u_mid`:"
     ]
    },
    {
     "cell_type": "code",
     "collapsed": false,
     "input": [
      "def solve_BVP_split_mismatch(f,x,u_left,u_right,k):\n",
      "    n2 = len(x)\n",
      "    dx = x[1]-x[0]\n",
      "    nmid = int(floor(n2/2.))\n",
      "    xhalf1 = x[:nmid+1]\n",
      "    xhalf2 = x[nmid:]\n",
      "    x_mid = x[nmid]\n",
      "    u_mid_guesses = linspace(0,2,5)\n",
      "    mismatch = zeros(u_mid_guesses.shape)\n",
      "    for j,u_mid in enumerate(u_mid_guesses):\n",
      "        uhalf1 = solve_BVP_direct(f,xhalf1,u_left,u_mid,k)\n",
      "        uhalf2 = solve_BVP_direct(f,xhalf2,u_mid,u_right,k)\n",
      "        u = hstack((uhalf1, uhalf2[1:]))\n",
      "        plot(x,u)\n",
      "        mismatch[j] = (uhalf1[-2] + (k**2*dx**2 - 2.)*u_mid + uhalf2[1]) + dx**2 * f(x_mid)\n",
      "        print \"With u_mid = %g, the mismatch is %g\" % (u_mid, mismatch[j])\n",
      "    figure()\n",
      "    plot(u_mid_guesses, mismatch,'o-')\n",
      "    \n",
      "x = linspace(0, 1, 40)\n",
      "solve_BVP_split_mismatch(f,x,u_left,u_right,k)\n"
     ],
     "language": "python",
     "metadata": {},
     "outputs": []
    },
    {
     "cell_type": "markdown",
     "metadata": {},
     "source": [
      "The top plot above shows the computed solution for various guesses at `u_mid`.  The bottom plot shows the mismatch as a function of the guess `u_mid`.  \n",
      "\n",
      "Note that the behavior is linear.  (You might try to use linear algebra to convince yourself that it should be!)\n",
      "\n",
      "This means we don't need an iterative method to find the right value of `u_mid`.  If we compute the solution for any two distinct values of `u_mid` and call the solutions obtained `v0` and `v1` and the mismatches `G0` and `G1`, then we can solve for a value `z` such that `z*G0 + (1-z)*G1 = 0` and the solution we desire is `z*v0 + (1-z)*v1` by linearity.  Note also that if the original boundary conditions are satisfied by both `v0` and `v1` then the convex combination `z*v0 + (1-z)*v1` also satisfies these boundary conditions (and the ODE).\n",
      "\n",
      "This suggests the following code, which solves each problem twice and the produces the right linear combination."
     ]
    },
    {
     "cell_type": "code",
     "collapsed": false,
     "input": [
      "def solve_BVP_split(f,x,u_left,u_right,k):\n",
      "    n2 = len(x)\n",
      "    dx = x[1]-x[0]\n",
      "    nmid = int(floor(n2/2.))\n",
      "    xhalf1 = x[:nmid+1]\n",
      "    xhalf2 = x[nmid:]\n",
      "    x_mid = x[nmid]\n",
      "    \n",
      "    # solve the sub-problems twice with different values of u_mid\n",
      "    # Note that any two distinct values can be used.\n",
      "    \n",
      "    u_mid = 0.\n",
      "    uhalf1 = solve_BVP_direct(f,xhalf1,u_left,u_mid,k)\n",
      "    uhalf2 = solve_BVP_direct(f,xhalf2,u_mid,u_right,k)\n",
      "    G0 = (uhalf1[-2] + (k**2*dx**2 - 2.)*u_mid + uhalf2[1]) + dx**2 * f(x_mid)\n",
      "    v0 = hstack((uhalf1, uhalf2[1:]))\n",
      "    \n",
      "    u_mid = 1.\n",
      "    uhalf1 = solve_BVP_direct(f,xhalf1,u_left,u_mid,k)\n",
      "    uhalf2 = solve_BVP_direct(f,xhalf2,u_mid,u_right,k)\n",
      "    G1 = (uhalf1[-2] + (k**2*dx**2 - 2.)*u_mid + uhalf2[1]) + dx**2 * f(x_mid)\n",
      "    v1 = hstack((uhalf1, uhalf2[1:]))\n",
      "\n",
      "    z =  G1 / (G1 - G0)\n",
      "    u = z*v0 + (1-z)*v1\n",
      "    \n",
      "    return u"
     ],
     "language": "python",
     "metadata": {},
     "outputs": []
    },
    {
     "cell_type": "code",
     "collapsed": false,
     "input": [
      "x = linspace(0, 1, 80)\n",
      "u = solve_BVP_split(f,x,u_left,u_right,k)\n",
      "print x.shape, u.shape\n",
      "check_solution(x,u,u_true)"
     ],
     "language": "python",
     "metadata": {},
     "outputs": []
    },
    {
     "cell_type": "markdown",
     "metadata": {},
     "source": [
      "## Recursive version\n",
      "\n",
      "The code above requires 4 calls to `solve_BVP_direct` and the four are independent and could be done in parallel.  Suppose you have more threads or processes available.  How would you use them?  You could split the original interval into more pieces and have additional points where you would need to choose appropriate boundary conditions for each piece by requiring that the resulting solutions also satisfy the difference equations at these boundary points.  It turns out this would give a linear system of equations to solve for these interface boundary values.\n",
      "\n",
      "Another approach is to use recursion to split the interval into more pieces.  Rather than calling `solve_BVP_direct` four times (which sets up and solves a tridiagonal system), we could recursively use the same strategy for each piece. This suggests the following recursive version:"
     ]
    },
    {
     "cell_type": "code",
     "collapsed": false,
     "input": [
      "def solve_BVP_split_recursive(f,x,u_left,u_right,k):\n",
      "    n2 = len(x)\n",
      "    print \"Entering solve_BVP_split_recursive with n2 =%4i, for x from %5.3f to %5.3f\" \\\n",
      "            % (n2, x[0], x[-1])\n",
      "    if n2 < 20:\n",
      "        # Stop recursing if the problem is small enough:\n",
      "        u = solve_BVP_direct(f,x,u_left,u_right,k)\n",
      "        return u\n",
      "    else:\n",
      "        # recursive\n",
      "        nmid = int(floor(n2/2.))\n",
      "        x_mid = x[nmid]\n",
      "        xhalf1 = x[:nmid+1]\n",
      "        xhalf2 = x[nmid:]\n",
      "        dx = x[1]-x[0]\n",
      "        u_mid = 0.\n",
      "        uhalf1 = solve_BVP_split_recursive(f,xhalf1,u_left,u_mid,k)\n",
      "        uhalf2 = solve_BVP_split_recursive(f,xhalf2,u_mid,u_right,k)\n",
      "        G0 = (uhalf1[-2] + (k**2*dx**2 - 2.)*u_mid + uhalf2[1]) + dx**2 * f(x_mid)\n",
      "        v0 = hstack((uhalf1, uhalf2[1:]))\n",
      "\n",
      "        u_mid = 1.\n",
      "        uhalf1 = solve_BVP_split_recursive(f,xhalf1,u_left,u_mid,k)\n",
      "        uhalf2 = solve_BVP_split_recursive(f,xhalf2,u_mid,u_right,k)\n",
      "        G1 = (uhalf1[-2] + (k**2*dx**2 - 2.)*u_mid + uhalf2[1]) + dx**2 * f(x_mid)\n",
      "        v1 = hstack((uhalf1, uhalf2[1:]))\n",
      "\n",
      "        z =  G1 / (G1 - G0)\n",
      "        u = z*v0 + (1-z)*v1\n",
      "    \n",
      "    return u"
     ],
     "language": "python",
     "metadata": {},
     "outputs": []
    },
    {
     "cell_type": "code",
     "collapsed": false,
     "input": [
      "x = linspace(0, 1, 40)\n",
      "u = solve_BVP_split_recursive(f,x,u_left,u_right,k)\n",
      "check_solution(x,u,u_true)"
     ],
     "language": "python",
     "metadata": {},
     "outputs": []
    },
    {
     "cell_type": "code",
     "collapsed": false,
     "input": [],
     "language": "python",
     "metadata": {},
     "outputs": []
    },
    {
     "cell_type": "code",
     "collapsed": false,
     "input": [],
     "language": "python",
     "metadata": {},
     "outputs": []
    }
   ],
   "metadata": {}
  }
 ]
}