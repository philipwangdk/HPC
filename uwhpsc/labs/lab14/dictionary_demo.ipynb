{
 "metadata": {
  "name": "",
  "signature": "sha256:391a0d9cbf1003ab5d82a0ca7d4de27680244837a0cb32f141ae5fb5fb31d2d9"
 },
 "nbformat": 3,
 "nbformat_minor": 0,
 "worksheets": [
  {
   "cells": [
    {
     "cell_type": "markdown",
     "metadata": {},
     "source": [
      "# Python dictionaries\n",
      "\n",
      "The Python dictionary data structure is often very useful. See <https://docs.python.org/2/tutorial/datastructures.html#dictionaries>"
     ]
    },
    {
     "cell_type": "code",
     "collapsed": false,
     "input": [
      "%pylab inline"
     ],
     "language": "python",
     "metadata": {},
     "outputs": []
    },
    {
     "cell_type": "markdown",
     "metadata": {},
     "source": [
      "Example of mapping color names to RGB tuples and/or hex strings.\n",
      "\n",
      "See <http://faculty.washington.edu/rjl/classes/am583s2014/notes/memory.html>"
     ]
    },
    {
     "cell_type": "code",
     "collapsed": false,
     "input": [
      "d = {'red':[1,0,0],  'blue':'#0000ff'}\n",
      "print d['red']"
     ],
     "language": "python",
     "metadata": {},
     "outputs": []
    },
    {
     "cell_type": "code",
     "collapsed": false,
     "input": [
      "fill([0,3,3,0,0],[0,0,3,3,0],color=d['red'])\n",
      "fill([1,2,2,1,1],[1,1,2,2,1],color=d['blue'])"
     ],
     "language": "python",
     "metadata": {},
     "outputs": []
    },
    {
     "cell_type": "markdown",
     "metadata": {},
     "source": [
      "Can add new items to a dictionary, or change the value for an existing key:"
     ]
    },
    {
     "cell_type": "code",
     "collapsed": false,
     "input": [
      "d['blue'] = [0,0,1]\n",
      "d['husky purple'] = [ 0.22352941,  0.15294118,  0.35686275]\n",
      "d['husky gold'] = '#f0d576'\n",
      "print d"
     ],
     "language": "python",
     "metadata": {},
     "outputs": []
    },
    {
     "cell_type": "code",
     "collapsed": false,
     "input": [
      "fill([0,3,3,0,0],[0,0,3,3,0],color=d['husky gold'])\n",
      "fill([1,2,2,1,1],[1,1,2,2,1],color=d['husky purple'])"
     ],
     "language": "python",
     "metadata": {},
     "outputs": []
    },
    {
     "cell_type": "markdown",
     "metadata": {},
     "source": [
      "Can use a dictionary to get something like an array with indexing starting at 1, or for a sparse array:"
     ]
    },
    {
     "cell_type": "code",
     "collapsed": false,
     "input": [
      "d = {}  # initialize with empty dictionary\n",
      "for j in range(5):\n",
      "    d[j+1] = j+1\n",
      "    \n",
      "print d\n",
      "print d[2]  # should be 2"
     ],
     "language": "python",
     "metadata": {},
     "outputs": []
    },
    {
     "cell_type": "code",
     "collapsed": false,
     "input": [
      "d[2000] = 'two thousand'\n",
      "print d\n",
      "print d.keys()  # list all the keys"
     ],
     "language": "python",
     "metadata": {},
     "outputs": []
    },
    {
     "cell_type": "markdown",
     "metadata": {},
     "source": [
      "You can iterate over items in a dictionary, but they might come up in random order:"
     ]
    },
    {
     "cell_type": "code",
     "collapsed": false,
     "input": [
      "for key,value in d.iteritems():\n",
      "    print \"key \",key,\" gives value \",value"
     ],
     "language": "python",
     "metadata": {},
     "outputs": []
    },
    {
     "cell_type": "markdown",
     "metadata": {},
     "source": [
      "One useful dictionary is os.environ, which contains any environment variables you have set:"
     ]
    },
    {
     "cell_type": "code",
     "collapsed": false,
     "input": [
      "import os\n",
      "HOME = os.environ['HOME']\n",
      "print HOME"
     ],
     "language": "python",
     "metadata": {},
     "outputs": []
    },
    {
     "cell_type": "markdown",
     "metadata": {},
     "source": [
      "Dictionary keys can be any immutable objects, such as an int, float, string, or tuple:"
     ]
    },
    {
     "cell_type": "code",
     "collapsed": false,
     "input": [
      "d = {}\n",
      "d[(1,2)] = 3\n",
      "print d\n",
      "\n",
      "a = (1,2)\n",
      "print d[a]\n",
      "\n",
      "d[a] = 4  # changes the value associated with key (1,2)\n",
      "print d"
     ],
     "language": "python",
     "metadata": {},
     "outputs": []
    },
    {
     "cell_type": "markdown",
     "metadata": {},
     "source": [
      "But not a mutable object like a list:"
     ]
    },
    {
     "cell_type": "code",
     "collapsed": false,
     "input": [
      "d[[3,4]] = 5"
     ],
     "language": "python",
     "metadata": {},
     "outputs": []
    },
    {
     "cell_type": "code",
     "collapsed": false,
     "input": [],
     "language": "python",
     "metadata": {},
     "outputs": []
    }
   ],
   "metadata": {}
  }
 ]
}