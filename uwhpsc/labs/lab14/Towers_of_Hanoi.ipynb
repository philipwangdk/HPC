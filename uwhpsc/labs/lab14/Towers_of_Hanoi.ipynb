{
 "metadata": {
  "name": "",
  "signature": "sha256:cb8fb6505e22e4144f3ac494203a425fe3fdb06c858fe4521a5e0922017fef72"
 },
 "nbformat": 3,
 "nbformat_minor": 0,
 "worksheets": [
  {
   "cells": [
    {
     "cell_type": "markdown",
     "metadata": {},
     "source": [
      "# Towers of Hanoi solution using a recursive function\n",
      "\n",
      "For a general description of the game, see <http://en.wikipedia.org/wiki/Tower_of_Hanoi>."
     ]
    },
    {
     "cell_type": "code",
     "collapsed": false,
     "input": [
      "%pylab inline"
     ],
     "language": "python",
     "metadata": {},
     "outputs": []
    },
    {
     "cell_type": "markdown",
     "metadata": {},
     "source": [
      "## First version: just print out moves"
     ]
    },
    {
     "cell_type": "code",
     "collapsed": false,
     "input": [
      "def move_disks(itop, ibottom, from_peg, to_peg):\n",
      "    if itop > ibottom:\n",
      "        raise InputError(\"Require itop <= ibottom, got itop = %i, ibottom = %i\" %(itop,ibottom))\n",
      "    if itop==ibottom:\n",
      "        print \"Move Disk %i from Peg %i to Peg %i\" % (itop, from_peg, to_peg)\n",
      "    else:\n",
      "        other_peg = 6 - from_peg - to_peg\n",
      "        # recursive call:\n",
      "        move_disks(itop, ibottom-1, from_peg, other_peg)\n",
      "        move_disks(ibottom, ibottom, from_peg, to_peg)\n",
      "        move_disks(itop, ibottom-1, other_peg, to_peg)"
     ],
     "language": "python",
     "metadata": {},
     "outputs": []
    },
    {
     "cell_type": "code",
     "collapsed": false,
     "input": [
      "n = 2\n",
      "move_disks(1,n,1,3)"
     ],
     "language": "python",
     "metadata": {},
     "outputs": []
    },
    {
     "cell_type": "code",
     "collapsed": false,
     "input": [
      "n = 3\n",
      "move_disks(1,n,1,3)"
     ],
     "language": "python",
     "metadata": {},
     "outputs": []
    },
    {
     "cell_type": "markdown",
     "metadata": {},
     "source": [
      "## Second version, print out configuration of disks on pegs after each move"
     ]
    },
    {
     "cell_type": "code",
     "collapsed": false,
     "input": [
      "n = 3\n",
      "peg = {}\n",
      "peg[1] = range(1,n+1)\n",
      "peg[2] = []\n",
      "peg[3] = []\n",
      "def print_pegs():\n",
      "        print \"   Peg 1 holds: \",peg[1]\n",
      "        print \"   Peg 2 holds: \",peg[2]\n",
      "        print \"   Peg 3 holds: \",peg[3]\n",
      "        \n",
      "print \"Initial configuration:\"\n",
      "print_pegs()\n",
      "        \n",
      "def move_disks2(itop, ibottom, from_peg, to_peg):\n",
      "    if itop > ibottom:\n",
      "        raise InputError(\"Require itop <= ibottom, got itop = %i, ibottom = %i\" %(itop,ibottom))\n",
      "    if itop==ibottom:\n",
      "        print \"Move Disk %i from Peg %i to Peg %i\" % (itop, from_peg, to_peg)\n",
      "        peg[from_peg] = peg[from_peg][1:]   # drop first element of list\n",
      "        peg[to_peg] = [itop] + peg[to_peg]  # add as first element of list\n",
      "        print_pegs()\n",
      "    else:\n",
      "        other_peg = 6 - from_peg - to_peg\n",
      "        # recursive call:\n",
      "        move_disks2(itop, ibottom-1, from_peg, other_peg)\n",
      "        move_disks2(ibottom, ibottom, from_peg, to_peg)\n",
      "        move_disks2(itop, ibottom-1, other_peg, to_peg)\n",
      "        \n",
      "move_disks2(1,n,1,3)"
     ],
     "language": "python",
     "metadata": {},
     "outputs": []
    },
    {
     "cell_type": "markdown",
     "metadata": {},
     "source": [
      "## Plotting the configuration\n",
      "\n",
      "Rather than printing what disks are on each peg, it would be much nicer to draw a figure.\n",
      "Here are a couple functions that might be useful."
     ]
    },
    {
     "cell_type": "code",
     "collapsed": false,
     "input": [
      "def plot_disk(j,n,peg,position):\n",
      "    \"\"\"\n",
      "    plot disk number j out of n (j=1 is the smallest, j=n the largest)\n",
      "    also specify which peg (1,2, or 3) to plot it on, and its position.\n",
      "    position=1 means it is on the base, position=2 is on top of one other disk, etc.\n",
      "    \"\"\"\n",
      "    width = j/float(n)  # actually the half-width of the jth disk\n",
      "    height = 1./float(n)  # so n of them fit between 0 and 1 in y-direction\n",
      "    xpeg = 1 + 2.5*(peg-1)  # location of this peg (they are at x = 1, 3.5, 7)\n",
      "    x = [xpeg-width, xpeg+width, xpeg+width, xpeg-width, xpeg-width]\n",
      "    y0 = (position-1)*height\n",
      "    y = [y0, y0, y0+height, y0+height, y0]\n",
      "    fill(x,y,'r')  # fill in a rectangle with red, specified by the 5 (x,y) points\n",
      "    \n",
      "def plot_pegs(n):\n",
      "    plot([0,7],[0,0],'k',linewidth=3)\n",
      "    plot([1,1],[0,1.2],'k',linewidth=3)\n",
      "    plot([3.5,3.5],[0,1.2],'k',linewidth=3)\n",
      "    plot([6,6],[0,1.2],'k',linewidth=3)\n",
      "    axis([0,7,0,1.5])"
     ],
     "language": "python",
     "metadata": {},
     "outputs": []
    },
    {
     "cell_type": "markdown",
     "metadata": {},
     "source": [
      "Here's an example of plotting one configuration:"
     ]
    },
    {
     "cell_type": "code",
     "collapsed": false,
     "input": [
      "n = 4\n",
      "plot_pegs(n)\n",
      "for j in range(1,n+1):\n",
      "    plot_disk(j,n,1,n+1-j)\n",
      "axis('off')  # comment this line out to see the axes, useful for debugging!"
     ],
     "language": "python",
     "metadata": {},
     "outputs": []
    },
    {
     "cell_type": "markdown",
     "metadata": {},
     "source": [
      "Use the functions above to make a sequence of plots showing the configuration after each move is made.\n",
      "\n",
      "Hint: Copy the second version and modify it so that a plot is generated each time a move is printed out."
     ]
    },
    {
     "cell_type": "code",
     "collapsed": false,
     "input": [],
     "language": "python",
     "metadata": {},
     "outputs": []
    }
   ],
   "metadata": {}
  }
 ]
}