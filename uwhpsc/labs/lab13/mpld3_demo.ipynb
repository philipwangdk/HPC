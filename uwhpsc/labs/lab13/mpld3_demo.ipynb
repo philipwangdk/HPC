{
 "metadata": {
  "name": "",
  "signature": "sha256:4433efd35b458999f238415b425c9c24426106b7b7e79b096bc3a2b08f08732d"
 },
 "nbformat": 3,
 "nbformat_minor": 0,
 "worksheets": [
  {
   "cells": [
    {
     "cell_type": "markdown",
     "metadata": {},
     "source": [
      "# mpld3 demo\n",
      "\n",
      "mpld3 lets you zoom in on figures created using matplotlib, using the d3.js library (Data-Driven Documents), see <d3js.org>.\n",
      "\n",
      "mpld3 is installed on SageMathCloud.  On your own computer you may need to install it from <https://github.com/jakevdp/mpld3>.  mpld3 was written by Jake Vanderplas at UW, see also <http://jakevdp.github.io/blog/2013/12/19/a-d3-viewer-for-matplotlib/>."
     ]
    },
    {
     "cell_type": "code",
     "collapsed": false,
     "input": [
      "import mpld3"
     ],
     "language": "python",
     "metadata": {},
     "outputs": []
    },
    {
     "cell_type": "code",
     "collapsed": false,
     "input": [
      "mpld3.enable_notebook()"
     ],
     "language": "python",
     "metadata": {},
     "outputs": []
    },
    {
     "cell_type": "code",
     "collapsed": false,
     "input": [
      "x = linspace(0,1,101)\n",
      "plot(x,sin(20*x**3),'o-')\n",
      "plot(x,0*x,'k') # x-axis\n"
     ],
     "language": "python",
     "metadata": {},
     "outputs": []
    },
    {
     "cell_type": "code",
     "collapsed": false,
     "input": [],
     "language": "python",
     "metadata": {},
     "outputs": []
    }
   ],
   "metadata": {}
  }
 ]
}