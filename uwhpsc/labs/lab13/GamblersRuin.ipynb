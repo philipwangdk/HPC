{
 "metadata": {
  "name": "",
  "signature": "sha256:c4fe19bcd64be9299f9d20ef824d5758ca15dad132e4558203f5e18cd8b2a212"
 },
 "nbformat": 3,
 "nbformat_minor": 0,
 "worksheets": [
  {
   "cells": [
    {
     "cell_type": "markdown",
     "metadata": {},
     "source": [
      "# Gambler's Ruin examples\n",
      "\n",
      "The Gambler's Ruin problem is a special case of a \"random walk\".  In this notebook we use random numbers to do Monte Carlo simulations and compare the results with some mathematical expressions.   The basic idea is that a gambler has a finite amount of money and continues betting until the money runs out.  In the version used here there are two gamblers and the game ends when one gambler is ruined (and the other has won all the money).\n",
      "\n",
      "Suppose two gamblers have $n_1$ and $n_2$ pennies to start.  Each round of betting is won by player 1 with probability $p$ or by player 2 with probability $q=1-p$.  The loser transfers a penny to the winner.  The game ends when one player has no pennies left.  \n",
      "\n",
      "It can be shown that player 1 wins with probability\n",
      "$$\n",
      "P_1 = \\frac{1-(q/p)^{n_1}} {1-(q/p)^{n_1+n_2}}\n",
      "$$\n",
      "\n",
      "and Player 2 wins with probability \n",
      "$$\n",
      "P_2 = 1- P_1 = \\frac{(q/p)^{n_1}-(q/p)^{n_1+n_2}} {1-(q/p)^{n_1+n_2}}\n",
      "$$\n",
      "See <http://en.wikipedia.org/wiki/Gambler's_ruin#Unfair_coin_flipping>."
     ]
    },
    {
     "cell_type": "code",
     "collapsed": false,
     "input": [
      "%pylab inline"
     ],
     "language": "python",
     "metadata": {},
     "outputs": []
    },
    {
     "cell_type": "markdown",
     "metadata": {},
     "source": [
      "## Example of calculating $P_1$ and $P_2$ from the formulas:\n",
      "\n",
      "Play around with the values p, n1, and n2..."
     ]
    },
    {
     "cell_type": "code",
     "collapsed": false,
     "input": [
      "p = 0.6\n",
      "q = 1-p\n",
      "n1 = 3\n",
      "n2 = 3\n",
      "P1 = (1-(q/p)**n1) / (1.-(q/p)**(n1+n2))\n",
      "P2 = ((q/p)**n1 - (q/p)**(n1+n2)) / (1.-(q/p)**(n1+n2))\n",
      "print P1,P2, P1+P2"
     ],
     "language": "python",
     "metadata": {},
     "outputs": []
    },
    {
     "cell_type": "markdown",
     "metadata": {},
     "source": [
      "## Monte Carlo simulations\n",
      "\n",
      "Next we estimate the probabilities by simulating many games.\n",
      "\n",
      "Initialize the random number generator:"
     ]
    },
    {
     "cell_type": "code",
     "collapsed": true,
     "input": [
      "from numpy import random\n",
      "random.seed(12345)\n"
     ],
     "language": "python",
     "metadata": {},
     "outputs": []
    },
    {
     "cell_type": "markdown",
     "metadata": {},
     "source": [
      "A function to take a single random walk:"
     ]
    },
    {
     "cell_type": "code",
     "collapsed": false,
     "input": [
      "max_steps = 500  # maximum number of steps for each random walk\n",
      "\n",
      "def walk(n1,n2,p,verbose=True):\n",
      "    n1path = [n1]   # keep track of n1 each step of the walk\n",
      "    for nstep in range(1,max_steps+1):\n",
      "        r = random.random(1)\n",
      "        if r <= p:\n",
      "            n1 = n1+1\n",
      "            n2 = n2-1\n",
      "        else:\n",
      "            n1 = n1-1\n",
      "            n2 = n2+1\n",
      "        n1path.append(n1)\n",
      "        if verbose:\n",
      "            print \"In step %i, r = %7.4f and n1 = %i, n2 = %i\" % (nstep,r,n1,n2)\n",
      "        if min(n1,n2) == 0:\n",
      "            break\n",
      "    if verbose:\n",
      "        print \"Stopped after %i steps with n1 = %i, n2 = %i\" % (nstep,n1,n2)\n",
      "    if n1 == 0:\n",
      "        winner = 2\n",
      "    elif n2 == 0:\n",
      "        winner = 1\n",
      "    else:\n",
      "        winner = 0\n",
      "    return nstep, winner, n1path\n",
      "    "
     ],
     "language": "python",
     "metadata": {},
     "outputs": []
    },
    {
     "cell_type": "markdown",
     "metadata": {},
     "source": [
      "Test this out by taking a single walk and plotting the results"
     ]
    },
    {
     "cell_type": "code",
     "collapsed": false,
     "input": [
      "n1 = 4\n",
      "n2 = 4\n",
      "nstep, winner, n1path = walk(n1, n2,.6)\n",
      "plot(n1path,'o-')\n",
      "xlabel('Step in walk')\n",
      "ylabel('Number of pennies player 1 has')\n",
      "yt = yticks(range(n1+n2+1))"
     ],
     "language": "python",
     "metadata": {},
     "outputs": []
    },
    {
     "cell_type": "markdown",
     "metadata": {},
     "source": [
      "Try several walks and plot the results together:"
     ]
    },
    {
     "cell_type": "code",
     "collapsed": false,
     "input": [
      "random.seed(1234)\n",
      "for k in range(7):\n",
      "    nstep, winner, n1path = walk(5,5,.6,verbose=False)\n",
      "    plot(n1path,'o-')\n",
      "xlabel('Step in walk')\n",
      "ylabel('n1')"
     ],
     "language": "python",
     "metadata": {},
     "outputs": []
    },
    {
     "cell_type": "markdown",
     "metadata": {},
     "source": [
      "## Estimate the probabilities to compare with the formulas:"
     ]
    },
    {
     "cell_type": "code",
     "collapsed": false,
     "input": [
      "\n",
      "p = 0.6\n",
      "n1 = 3\n",
      "n2 = 3\n",
      "\n",
      "wins = [0,0,0]\n",
      "kwalks = 1000\n",
      "for k in range(kwalks):\n",
      "    nsteps, winner, n1path = walk(n1, n2, p, verbose=False)\n",
      "    wins[winner] += 1\n",
      "frac1wins = wins[1] / float(kwalks)\n",
      "frac2wins = wins[2] / float(kwalks)\n",
      "\n",
      "if wins[0] > 0:\n",
      "    print \"Warning: %i walks out of %i did not result in a win by either player\" \\\n",
      "        % (wins[0],kwalks)\n",
      "    \n",
      "print \"Player 1 won %s fraction of the time, Player 2 won %s fraction of the time\" \\\n",
      "        % (frac1wins,frac2wins)\n",
      "\n",
      "q = 1-p\n",
      "P1 = (1-(q/p)**n1) / (1.-(q/p)**(n1+n2))\n",
      "P2 = 1 - P1\n",
      "print \"True probabilities are P1 = %7.4f, P2 = %7.4f\" % (P1,P2)\n",
      "\n",
      "    "
     ],
     "language": "python",
     "metadata": {},
     "outputs": []
    },
    {
     "cell_type": "markdown",
     "metadata": {},
     "source": [
      "## Estimate the average number of steps taken\n",
      "\n",
      "There's also a formula for the expected value of the number of steps in the walk, which for $p \\neq 1/2$ is given by\n",
      "$$\n",
      "\\frac{n_1}{q-p} - \\frac{n_1+n_2}{q-p} \\frac{1-(q/p)^{n_1}}{1-(q/p)^{n_1+n_2}}\n",
      "$$\n",
      "See for example <http://www.dam.brown.edu/people/huiwang/classes/APMA1200/RWalk_07.pdf>.\n",
      "\n",
      "We can test this out:"
     ]
    },
    {
     "cell_type": "code",
     "collapsed": false,
     "input": [
      "p = 0.8\n",
      "q = 1 - p\n",
      "n1 = 50\n",
      "n2 = 50\n",
      "\n",
      "wins = [0,0,0]\n",
      "kwalks = 1000\n",
      "nsteps_total = 0\n",
      "for k in range(kwalks):\n",
      "    nsteps, winner, n1path = walk(n1, n2, p, verbose=False)\n",
      "    nsteps_total += nsteps\n",
      "    wins[winner] += 1\n",
      "    \n",
      "if wins[0] > 0:\n",
      "    print \"Warning: %i walks out of %i did not result in a win by either player\" \\\n",
      "        % (wins[0],kwalks)\n",
      "        \n",
      "print \"The average path length is %7.4f\" % (nsteps_total/float(kwalks))\n",
      "\n",
      "mean_length = (n1/(q-p)) - ((n1+n2)/(q-p))*(1-(q/p)**n1)/(1-(q/p)**(n1+n2))\n",
      "print \"True mean path length is %7.4f\" % mean_length\n"
     ],
     "language": "python",
     "metadata": {},
     "outputs": []
    }
   ],
   "metadata": {}
  }
 ]
}