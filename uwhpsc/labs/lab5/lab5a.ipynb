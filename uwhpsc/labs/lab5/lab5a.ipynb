{
 "metadata": {
  "name": ""
 },
 "nbformat": 3,
 "nbformat_minor": 0,
 "worksheets": [
  {
   "cells": [
    {
     "cell_type": "heading",
     "level": 1,
     "metadata": {},
     "source": [
      "AMath 583 Lab 5"
     ]
    },
    {
     "cell_type": "markdown",
     "metadata": {},
     "source": [
      "## Where to find this notebook:\n",
      "\n",
      "* This notebook will be in \\$UWHPSC/labs/lab5/lab5a.ipynb if you have cloned the class repository.  You may need to \"git pull\" to update.\n",
      "* Or you can bring it down to your computer (or SageMathCloud project) by typing this in a terminal shell:\n",
      "  *   wget http://faculty.washington.edu/rjl/classes/am583s2014/lab5a.ipynb"
     ]
    },
    {
     "cell_type": "markdown",
     "metadata": {},
     "source": [
      "## Announcements:\n",
      "\n",
      "* Please sit at assigned tables.\n",
      "* If you're having problems with notebooks in SMC, note that you can also use IPython from a terminal.\n",
      "\n",
      "* Homework 2 will be posted by Thursday.  Part of the homework will be to read this paper: \n",
      "  \"Best Practices for Scientific Computing, by G. Wilson, D. A. Aruliah\", by C. T. Brown, et. al.\n",
      "  that can be found at <http://www.plosbiology.org/article/info%3Adoi%2F10.1371%2Fjournal.pbio.1001745>\n",
      "    "
     ]
    },
    {
     "cell_type": "code",
     "collapsed": false,
     "input": [
      "%pylab inline  "
     ],
     "language": "python",
     "metadata": {},
     "outputs": []
    },
    {
     "cell_type": "markdown",
     "metadata": {},
     "source": [
      "## SymPy\n",
      "\n",
      "SymPy is a package of Python tools for symbolic calculations in algebra and calculus.  This is notebook has a very brief demo of some features, but you can learn much more about it from various on-line resources such as:\n",
      "\n",
      "* <http://docs.sympy.org/latest/tutorial/intro.html#what-is-symbolic-computation>\n",
      "* <http://nbviewer.ipython.org/github/jrjohansson/scientific-python-lectures/blob/master/Lecture-5-Sympy.ipynb>\n",
      "\n",
      "You can do \"from sympy import *\" to get all of sympy in your namespace, but note that this will overwrite standard numpy variables such as pi and functions such as sin, cos, exp, sqrt, with sympy versions.  Since we may want to mix symbolic and numerical computing, we will be explicit about what's coming from SymPy:\n"
     ]
    },
    {
     "cell_type": "code",
     "collapsed": false,
     "input": [
      "import sympy as S  # shorthand"
     ],
     "language": "python",
     "metadata": {},
     "outputs": []
    },
    {
     "cell_type": "code",
     "collapsed": false,
     "input": [
      "S.init_printing()   # so symbolic math is printed nicely"
     ],
     "language": "python",
     "metadata": {},
     "outputs": []
    },
    {
     "cell_type": "markdown",
     "metadata": {},
     "source": [
      "### Define a polynomial and factor it:"
     ]
    },
    {
     "cell_type": "code",
     "collapsed": false,
     "input": [
      "x = S.symbols('x')  # defines a symbol\n",
      "f = x**3 - 3*x**2 - 18*x + 40   # a new symbolic expression\n",
      "f                   # print it nicely"
     ],
     "language": "python",
     "metadata": {},
     "outputs": []
    },
    {
     "cell_type": "code",
     "collapsed": false,
     "input": [
      "S.factor(f)"
     ],
     "language": "python",
     "metadata": {},
     "outputs": []
    },
    {
     "cell_type": "markdown",
     "metadata": {},
     "source": [
      "### We can also differentiate:"
     ]
    },
    {
     "cell_type": "code",
     "collapsed": false,
     "input": [
      "S.diff(f,x)  # differentiate f with respect to x"
     ],
     "language": "python",
     "metadata": {},
     "outputs": []
    },
    {
     "cell_type": "markdown",
     "metadata": {},
     "source": [
      "### A messier function and its derivative:"
     ]
    },
    {
     "cell_type": "code",
     "collapsed": false,
     "input": [
      "f = (x**3 * S.exp(5*x)*S.cos(S.pi*x)) / (1 + S.sqrt(x))\n",
      "f"
     ],
     "language": "python",
     "metadata": {},
     "outputs": []
    },
    {
     "cell_type": "code",
     "collapsed": false,
     "input": [
      "g = S.diff(f,x,n=3)\n",
      "g"
     ],
     "language": "python",
     "metadata": {},
     "outputs": []
    },
    {
     "cell_type": "markdown",
     "metadata": {},
     "source": [
      "Note that if you \"print g\" it does not come out so pretty, but this might be more useful if you want to cut and paste this into a Fortran program, for example:"
     ]
    },
    {
     "cell_type": "code",
     "collapsed": false,
     "input": [
      "print g"
     ],
     "language": "python",
     "metadata": {},
     "outputs": []
    },
    {
     "cell_type": "markdown",
     "metadata": {},
     "source": [
      "### Evaluate this derivative at the point $x = 0.2$:"
     ]
    },
    {
     "cell_type": "code",
     "collapsed": false,
     "input": [
      "g2 = g.subs(x, 0.2)\n",
      "g2"
     ],
     "language": "python",
     "metadata": {},
     "outputs": []
    },
    {
     "cell_type": "markdown",
     "metadata": {},
     "source": [
      "Note this substituted 0.2 for $x$, but the special symbol $\\pi$ has not be converted to a number.  The SymPy function N converts special constants like $\\pi$ and $e$ to numerical values:"
     ]
    },
    {
     "cell_type": "code",
     "collapsed": false,
     "input": [
      "S.N(g2)"
     ],
     "language": "python",
     "metadata": {},
     "outputs": []
    },
    {
     "cell_type": "markdown",
     "metadata": {},
     "source": [
      "You can specify how many digits to use when it does this substitution, e.g."
     ]
    },
    {
     "cell_type": "code",
     "collapsed": false,
     "input": [
      "S.N(S.pi,n=50)"
     ],
     "language": "python",
     "metadata": {},
     "outputs": []
    },
    {
     "cell_type": "markdown",
     "metadata": {},
     "source": [
      "## Symbolic differentiation for a Newton iteration.\n",
      "\n",
      "In the last two labs you implemented Newton's method for different functions and probably had to compute the derivatives by hand.  Here's a way to write and fvals function using SymPy:"
     ]
    },
    {
     "cell_type": "code",
     "collapsed": false,
     "input": [
      "def fvals(x, debug=False):\n",
      "    from sympy import symbols,diff,sqrt\n",
      "    # First specify f symbolically and differentiate using SymPy:\n",
      "    xs = symbols('xs')\n",
      "    fs = xs**2 - 2.\n",
      "    fprimes = diff(fs, xs)\n",
      "    \n",
      "    # Now evaluate numerically at the value x passed in to this function:\n",
      "    f = fs.subs(xs, x)\n",
      "    fprime = fprimes.subs(xs, x)\n",
      "    \n",
      "    # The next lines are just for illustrating that this is working:\n",
      "    if debug:\n",
      "        print \"fs = \",fs\n",
      "        print \"fprimes = \",fprimes\n",
      "        print \"x = \",x\n",
      "        \n",
      "    return f, fprime\n",
      "\n",
      "# Try it out:\n",
      "fv = fvals(3., debug=True)\n",
      "print \"fvals returns: \", fv"
     ],
     "language": "python",
     "metadata": {},
     "outputs": []
    },
    {
     "cell_type": "markdown",
     "metadata": {},
     "source": [
      "## Try this out with Newton's method:"
     ]
    },
    {
     "cell_type": "code",
     "collapsed": false,
     "input": [
      "def newton(fvals, x0, tol):\n",
      "    xk = x0\n",
      "    kmax = 30   # maximum number of iterations\n",
      "    print \"   k               xk                      f(xk)\"\n",
      "    for k in range(kmax):\n",
      "        \n",
      "        fxk, fpxk = fvals(xk)  # evaluate f(x) and f'(x)\n",
      "        print \"%4i   %22.15f  %22.15f\"  % (k, xk, fxk)\n",
      "\n",
      "        if abs(fxk) < tol:\n",
      "            break  #leave the loop if tolerance satisfied\n",
      "            \n",
      "        xk = xk - fxk / fpxk  # update xk using Newton's method\n",
      "\n",
      "    return xk"
     ],
     "language": "python",
     "metadata": {},
     "outputs": []
    },
    {
     "cell_type": "code",
     "collapsed": false,
     "input": [
      "newton(fvals, 2, 1e-10)   "
     ],
     "language": "python",
     "metadata": {},
     "outputs": []
    },
    {
     "cell_type": "markdown",
     "metadata": {},
     "source": [
      "## Exercises:\n",
      "\n",
      "* Use Newton's method to find a root of $f(x) = (x^2 - 2)\\exp(-0.1 x^2) + 0.5$ from Lab 4.\n",
      "* Let $f(x) = \\sqrt{\\cos(2\\pi x) e^x}$.  Compute $f''(0.1)$, the second derivative evaluated at $x=0.1$.  This value is needed for the Lab 5 Quiz."
     ]
    },
    {
     "cell_type": "markdown",
     "metadata": {},
     "source": [
      "Remember you can get help in IPython by adding a ? to the end of an object and running the cell..."
     ]
    },
    {
     "cell_type": "code",
     "collapsed": false,
     "input": [
      "S.integrate?"
     ],
     "language": "python",
     "metadata": {},
     "outputs": []
    },
    {
     "cell_type": "code",
     "collapsed": false,
     "input": [
      "S.diff?"
     ],
     "language": "python",
     "metadata": {},
     "outputs": []
    }
   ],
   "metadata": {}
  }
 ]
}