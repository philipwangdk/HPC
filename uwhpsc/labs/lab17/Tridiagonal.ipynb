{
 "metadata": {
  "name": "",
  "signature": "sha256:03891f69e60e29f26299bb857e71dcb46c7d215cad80ca995116987e2a0eeb44"
 },
 "nbformat": 3,
 "nbformat_minor": 0,
 "worksheets": [
  {
   "cells": [
    {
     "cell_type": "markdown",
     "metadata": {},
     "source": [
      "# Solving tridiagonal systems using scipy.sparse\n",
      "\n",
      "This notebook illustrates how to use the scipy.sparse module to define a tridiagonal matrix and solve a linear system with such a matrix.\n",
      "\n",
      "See <http://docs.scipy.org/doc/scipy/reference/sparse.html> for more documentation on sparse matrix routines.\n",
      "\n",
      "Note that it would be inefficient to set up a full matrix that only has three nonzero diagonals and then call the general numpy.linalg.solve routine to solve the system.  This would perform Gauss Elimination on the full matrix without taking advantage of the fact that most of the lower triangular part is already full of 0's.  So it would take $O(n^3)$ flops to solve an $n\\times n$ system.  By using the sparse routines, the same system can be solved in $O(n)$ flops."
     ]
    },
    {
     "cell_type": "code",
     "collapsed": false,
     "input": [
      "%pylab inline"
     ],
     "language": "python",
     "metadata": {},
     "outputs": [
      {
       "output_type": "stream",
       "stream": "stdout",
       "text": [
        "Populating the interactive namespace from numpy and matplotlib\n"
       ]
      }
     ],
     "prompt_number": 1
    },
    {
     "cell_type": "code",
     "collapsed": false,
     "input": [
      "from scipy import sparse  # to define sparse matrices"
     ],
     "language": "python",
     "metadata": {},
     "outputs": [],
     "prompt_number": 2
    },
    {
     "cell_type": "markdown",
     "metadata": {},
     "source": [
      "First a simple example to illustrate how data is specified in a banded matrix.  For a tridiagonal matrix only the diagonals numbered:\n",
      "\n",
      "* $-1$ (the subdiagonal) \n",
      "* 0 (the main diagonal) and \n",
      "* $+1$ (the superdiagonal) \n",
      "\n",
      "are nonzero, and the data is specified by providing three 1-dimensional arrays of data giving values along these three diagonals."
     ]
    },
    {
     "cell_type": "code",
     "collapsed": false,
     "input": [
      "d_main = linspace(1,5,5)  # values that will go on main diagonal\n",
      "d_sub = 10*d_main        # values that will go on subdiagonal\n",
      "d_super = 100*d_main      # values that will go on superdiagonal\n",
      "data = [d_sub, d_main, d_super]   # list of all the data\n",
      "diags = [-1,0,1]                  # which diagonal each vector goes into\n",
      "A = sparse.spdiags(data,diags,5,5,format='csc')  # create the matrix\n",
      "print A.shape"
     ],
     "language": "python",
     "metadata": {},
     "outputs": [
      {
       "output_type": "stream",
       "stream": "stdout",
       "text": [
        "(5, 5)\n"
       ]
      }
     ],
     "prompt_number": 3
    },
    {
     "cell_type": "markdown",
     "metadata": {},
     "source": [
      "Note that although $A$ is a $5 \\times 5$ matrix, the full matrix is not stored.  Only the non-zero elements are stored along with information about which elements these are.  The format 'csc' means it is stored in compressed sparse column format,and so if you print out $A$ you will see this information by columns:"
     ]
    },
    {
     "cell_type": "code",
     "collapsed": false,
     "input": [
      "print A"
     ],
     "language": "python",
     "metadata": {},
     "outputs": [
      {
       "output_type": "stream",
       "stream": "stdout",
       "text": [
        "  (0, 0)\t1.0\n",
        "  (1, 0)\t10.0\n",
        "  (0, 1)\t200.0\n",
        "  (1, 1)\t2.0\n",
        "  (2, 1)\t20.0\n",
        "  (1, 2)\t300.0\n",
        "  (2, 2)\t3.0\n",
        "  (3, 2)\t30.0\n",
        "  (2, 3)\t400.0\n",
        "  (3, 3)\t4.0\n",
        "  (4, 3)\t40.0\n",
        "  (3, 4)\t500.0\n",
        "  (4, 4)\t5.0\n"
       ]
      }
     ],
     "prompt_number": 4
    },
    {
     "cell_type": "markdown",
     "metadata": {},
     "source": [
      "If you want to see the full matrix, you can use the function `todense` associated with any sparse matrix, which fills in all the 0's and returns a numpy `ndarray`:"
     ]
    },
    {
     "cell_type": "code",
     "collapsed": false,
     "input": [
      "print A.todense()"
     ],
     "language": "python",
     "metadata": {},
     "outputs": [
      {
       "output_type": "stream",
       "stream": "stdout",
       "text": [
        "[[   1.  200.    0.    0.    0.]\n",
        " [  10.    2.  300.    0.    0.]\n",
        " [   0.   20.    3.  400.    0.]\n",
        " [   0.    0.   30.    4.  500.]\n",
        " [   0.    0.    0.   40.    5.]]\n"
       ]
      }
     ],
     "prompt_number": 5
    },
    {
     "cell_type": "markdown",
     "metadata": {},
     "source": [
      "Note that only the first 4 elements of the \"d_sub\" vector were used since only these columns needed to be filled.  Also only the second through 5th elements of the \"d_super\" vector were used since only these columns needed to be filled.  More generally, the elements of a vector that are used in filling the matrix correspond to the column being filled.\n",
      "\n",
      "Here's another example with the same data, but filling different diagonals:"
     ]
    },
    {
     "cell_type": "code",
     "collapsed": false,
     "input": [
      "data = [d_sub, d_main, d_super]   # list of all the data\n",
      "diags = [-2,0,3]                  # which diagonal each vector goes into\n",
      "B = sparse.spdiags(data,diags,5,5,format='csc')  # create the matrix\n",
      "print B.todense()"
     ],
     "language": "python",
     "metadata": {},
     "outputs": [
      {
       "output_type": "stream",
       "stream": "stdout",
       "text": [
        "[[   1.    0.    0.  400.    0.]\n",
        " [   0.    2.    0.    0.  500.]\n",
        " [  10.    0.    3.    0.    0.]\n",
        " [   0.   20.    0.    4.    0.]\n",
        " [   0.    0.   30.    0.    5.]]\n"
       ]
      }
     ],
     "prompt_number": 6
    },
    {
     "cell_type": "markdown",
     "metadata": {},
     "source": [
      "Sparse matrices are a special matrix class for which the `*` operation is overloaded with matrix or matrx-vector multiplication, so you can compute `A*x` or `A*B`:"
     ]
    },
    {
     "cell_type": "code",
     "collapsed": false,
     "input": [
      "x = ones((5,1))\n",
      "print \"A*x = \\n\",A*x\n",
      "print \"B*x = \\n\",B*x\n",
      "C = A*B\n",
      "print \"A*B = \\n\",C.todense()"
     ],
     "language": "python",
     "metadata": {},
     "outputs": [
      {
       "output_type": "stream",
       "stream": "stdout",
       "text": [
        "A*x = \n",
        "[[ 201.]\n",
        " [ 312.]\n",
        " [ 423.]\n",
        " [ 534.]\n",
        " [  45.]]\n",
        "B*x = \n",
        "[[ 401.]\n",
        " [ 502.]\n",
        " [  13.]\n",
        " [  24.]\n",
        " [  35.]]\n",
        "A*B = \n",
        "[[  1.00000000e+00   4.00000000e+02   0.00000000e+00   4.00000000e+02\n",
        "    1.00000000e+05]\n",
        " [  3.01000000e+03   4.00000000e+00   9.00000000e+02   4.00000000e+03\n",
        "    1.00000000e+03]\n",
        " [  3.00000000e+01   8.04000000e+03   9.00000000e+00   1.60000000e+03\n",
        "    1.00000000e+04]\n",
        " [  3.00000000e+02   8.00000000e+01   1.50900000e+04   1.60000000e+01\n",
        "    2.50000000e+03]\n",
        " [  0.00000000e+00   8.00000000e+02   1.50000000e+02   1.60000000e+02\n",
        "    2.50000000e+01]]\n"
       ]
      }
     ],
     "prompt_number": 7
    },
    {
     "cell_type": "markdown",
     "metadata": {},
     "source": [
      "## Solving sparse linear systems\n",
      "\n",
      "If `A` is a sparse matrix then you need to use `scipy.sparse.linalg.spsolve` rather than `numpy.linalg.solve` to solve a linear system with this matrix, e.g."
     ]
    },
    {
     "cell_type": "code",
     "collapsed": false,
     "input": [
      "from scipy.sparse.linalg import spsolve   # to solve sparse systems\n",
      "\n",
      "b = A*ones(5)  # create right hand side\n",
      "print \"b = \\n\",b\n",
      "\n",
      "x = spsolve(A,b)   # solve for x, should be all 1's\n",
      "print \"x = \\n\",x"
     ],
     "language": "python",
     "metadata": {},
     "outputs": [
      {
       "output_type": "stream",
       "stream": "stdout",
       "text": [
        "b = \n",
        "[ 201.  312.  423.  534.   45.]\n",
        "x = \n",
        "[ 1.  1.  1.  1.  1.]\n"
       ]
      }
     ],
     "prompt_number": 8
    },
    {
     "cell_type": "markdown",
     "metadata": {},
     "source": [
      "## Steady-state diffusion"
     ]
    },
    {
     "cell_type": "markdown",
     "metadata": {},
     "source": [
      "Recall that for the steady-state diffusion equation in one space dimension, $u''(x) = -f(x)$ for $a < x < b$, we need to solve a system involving a tridiagonal matrix with $-2$ on the diagonal and 1 on the subdiagonal and superdiagonal.  We can easily set up such a system:"
     ]
    },
    {
     "cell_type": "code",
     "collapsed": false,
     "input": [
      "n = 10\n",
      "d1 = ones(n)\n",
      "d0 = -2 * ones(n)\n",
      "A = sparse.spdiags([d1,d0,d1], [-1,0,1],n,n,format='csc')\n",
      "print A.todense()"
     ],
     "language": "python",
     "metadata": {},
     "outputs": [
      {
       "output_type": "stream",
       "stream": "stdout",
       "text": [
        "[[-2.  1.  0.  0.  0.  0.  0.  0.  0.  0.]\n",
        " [ 1. -2.  1.  0.  0.  0.  0.  0.  0.  0.]\n",
        " [ 0.  1. -2.  1.  0.  0.  0.  0.  0.  0.]\n",
        " [ 0.  0.  1. -2.  1.  0.  0.  0.  0.  0.]\n",
        " [ 0.  0.  0.  1. -2.  1.  0.  0.  0.  0.]\n",
        " [ 0.  0.  0.  0.  1. -2.  1.  0.  0.  0.]\n",
        " [ 0.  0.  0.  0.  0.  1. -2.  1.  0.  0.]\n",
        " [ 0.  0.  0.  0.  0.  0.  1. -2.  1.  0.]\n",
        " [ 0.  0.  0.  0.  0.  0.  0.  1. -2.  1.]\n",
        " [ 0.  0.  0.  0.  0.  0.  0.  0.  1. -2.]]\n"
       ]
      }
     ],
     "prompt_number": 9
    },
    {
     "cell_type": "markdown",
     "metadata": {},
     "source": [
      "The final project will involve working with this matrix!"
     ]
    },
    {
     "cell_type": "markdown",
     "metadata": {},
     "source": [
      "## Warning on singular matrices\n",
      "\n",
      "The SciPy sparse solver seems to have a bug --- if you try to solve a singular system with `x = spsolve(A,b)` it returns `x = b` rather than warning that it's singular.  "
     ]
    },
    {
     "cell_type": "code",
     "collapsed": false,
     "input": [
      "A = sparse.csc_matrix(ones((3,3)))\n",
      "print \"A =\\n\", A.todense()\n",
      "\n",
      "b = A*ones(3)\n",
      "print \"b =\\n\", b\n",
      "x = spsolve(A,b)  # should be all 1's\n",
      "print \"x = \\n\",x             "
     ],
     "language": "python",
     "metadata": {},
     "outputs": [
      {
       "output_type": "stream",
       "stream": "stdout",
       "text": [
        "A =\n",
        "[[ 1.  1.  1.]\n",
        " [ 1.  1.  1.]\n",
        " [ 1.  1.  1.]]\n",
        "b =\n",
        "[ 3.  3.  3.]\n",
        "x = \n",
        "[ 3.  3.  3.]\n"
       ]
      }
     ],
     "prompt_number": 10
    },
    {
     "cell_type": "markdown",
     "metadata": {},
     "source": [
      "It should instead give a warning like the dense solver does:"
     ]
    },
    {
     "cell_type": "code",
     "collapsed": false,
     "input": [
      "from numpy.linalg import solve\n",
      "A = A.todense()\n",
      "x = solve(A,b)"
     ],
     "language": "python",
     "metadata": {},
     "outputs": [
      {
       "ename": "LinAlgError",
       "evalue": "Singular matrix",
       "output_type": "pyerr",
       "traceback": [
        "\u001b[0;31m---------------------------------------------------------------------------\u001b[0m\n\u001b[0;31mLinAlgError\u001b[0m                               Traceback (most recent call last)",
        "\u001b[0;32m<ipython-input-11-3c984f375b08>\u001b[0m in \u001b[0;36m<module>\u001b[0;34m()\u001b[0m\n\u001b[1;32m      1\u001b[0m \u001b[0;32mfrom\u001b[0m \u001b[0mnumpy\u001b[0m\u001b[0;34m.\u001b[0m\u001b[0mlinalg\u001b[0m \u001b[0;32mimport\u001b[0m \u001b[0msolve\u001b[0m\u001b[0;34m\u001b[0m\u001b[0m\n\u001b[1;32m      2\u001b[0m \u001b[0mA\u001b[0m \u001b[0;34m=\u001b[0m \u001b[0mA\u001b[0m\u001b[0;34m.\u001b[0m\u001b[0mtodense\u001b[0m\u001b[0;34m(\u001b[0m\u001b[0;34m)\u001b[0m\u001b[0;34m\u001b[0m\u001b[0m\n\u001b[0;32m----> 3\u001b[0;31m \u001b[0mx\u001b[0m \u001b[0;34m=\u001b[0m \u001b[0msolve\u001b[0m\u001b[0;34m(\u001b[0m\u001b[0mA\u001b[0m\u001b[0;34m,\u001b[0m\u001b[0mb\u001b[0m\u001b[0;34m)\u001b[0m\u001b[0;34m\u001b[0m\u001b[0m\n\u001b[0m",
        "\u001b[0;32m/Users/rjl/anaconda/lib/python2.7/site-packages/numpy/linalg/linalg.pyc\u001b[0m in \u001b[0;36msolve\u001b[0;34m(a, b)\u001b[0m\n\u001b[1;32m    379\u001b[0m     \u001b[0msignature\u001b[0m \u001b[0;34m=\u001b[0m \u001b[0;34m'DD->D'\u001b[0m \u001b[0;32mif\u001b[0m \u001b[0misComplexType\u001b[0m\u001b[0;34m(\u001b[0m\u001b[0mt\u001b[0m\u001b[0;34m)\u001b[0m \u001b[0;32melse\u001b[0m \u001b[0;34m'dd->d'\u001b[0m\u001b[0;34m\u001b[0m\u001b[0m\n\u001b[1;32m    380\u001b[0m     \u001b[0mextobj\u001b[0m \u001b[0;34m=\u001b[0m \u001b[0mget_linalg_error_extobj\u001b[0m\u001b[0;34m(\u001b[0m\u001b[0m_raise_linalgerror_singular\u001b[0m\u001b[0;34m)\u001b[0m\u001b[0;34m\u001b[0m\u001b[0m\n\u001b[0;32m--> 381\u001b[0;31m     \u001b[0mr\u001b[0m \u001b[0;34m=\u001b[0m \u001b[0mgufunc\u001b[0m\u001b[0;34m(\u001b[0m\u001b[0ma\u001b[0m\u001b[0;34m,\u001b[0m \u001b[0mb\u001b[0m\u001b[0;34m,\u001b[0m \u001b[0msignature\u001b[0m\u001b[0;34m=\u001b[0m\u001b[0msignature\u001b[0m\u001b[0;34m,\u001b[0m \u001b[0mextobj\u001b[0m\u001b[0;34m=\u001b[0m\u001b[0mextobj\u001b[0m\u001b[0;34m)\u001b[0m\u001b[0;34m\u001b[0m\u001b[0m\n\u001b[0m\u001b[1;32m    382\u001b[0m \u001b[0;34m\u001b[0m\u001b[0m\n\u001b[1;32m    383\u001b[0m     \u001b[0;32mreturn\u001b[0m \u001b[0mwrap\u001b[0m\u001b[0;34m(\u001b[0m\u001b[0mr\u001b[0m\u001b[0;34m.\u001b[0m\u001b[0mastype\u001b[0m\u001b[0;34m(\u001b[0m\u001b[0mresult_t\u001b[0m\u001b[0;34m)\u001b[0m\u001b[0;34m)\u001b[0m\u001b[0;34m\u001b[0m\u001b[0m\n",
        "\u001b[0;32m/Users/rjl/anaconda/lib/python2.7/site-packages/numpy/linalg/linalg.pyc\u001b[0m in \u001b[0;36m_raise_linalgerror_singular\u001b[0;34m(err, flag)\u001b[0m\n\u001b[1;32m     88\u001b[0m \u001b[0;34m\u001b[0m\u001b[0m\n\u001b[1;32m     89\u001b[0m \u001b[0;32mdef\u001b[0m \u001b[0m_raise_linalgerror_singular\u001b[0m\u001b[0;34m(\u001b[0m\u001b[0merr\u001b[0m\u001b[0;34m,\u001b[0m \u001b[0mflag\u001b[0m\u001b[0;34m)\u001b[0m\u001b[0;34m:\u001b[0m\u001b[0;34m\u001b[0m\u001b[0m\n\u001b[0;32m---> 90\u001b[0;31m     \u001b[0;32mraise\u001b[0m \u001b[0mLinAlgError\u001b[0m\u001b[0;34m(\u001b[0m\u001b[0;34m\"Singular matrix\"\u001b[0m\u001b[0;34m)\u001b[0m\u001b[0;34m\u001b[0m\u001b[0m\n\u001b[0m\u001b[1;32m     91\u001b[0m \u001b[0;34m\u001b[0m\u001b[0m\n\u001b[1;32m     92\u001b[0m \u001b[0;32mdef\u001b[0m \u001b[0m_raise_linalgerror_nonposdef\u001b[0m\u001b[0;34m(\u001b[0m\u001b[0merr\u001b[0m\u001b[0;34m,\u001b[0m \u001b[0mflag\u001b[0m\u001b[0;34m)\u001b[0m\u001b[0;34m:\u001b[0m\u001b[0;34m\u001b[0m\u001b[0m\n",
        "\u001b[0;31mLinAlgError\u001b[0m: Singular matrix"
       ]
      }
     ],
     "prompt_number": 11
    },
    {
     "cell_type": "markdown",
     "metadata": {},
     "source": [
      "Also remember that a matrix can be very close to singular (ill-conditioned) and you may get answers with few digits of accuracy numerically even if it the matrix is not singular.  "
     ]
    }
   ],
   "metadata": {}
  }
 ]
}