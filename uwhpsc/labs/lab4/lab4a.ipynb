{
 "metadata": {
  "name": ""
 },
 "nbformat": 3,
 "nbformat_minor": 0,
 "worksheets": [
  {
   "cells": [
    {
     "cell_type": "heading",
     "level": 1,
     "metadata": {},
     "source": [
      "AMath 583 Lab 4"
     ]
    },
    {
     "cell_type": "markdown",
     "metadata": {},
     "source": [
      "## Where to find this notebook:\n",
      "\n",
      "* This notebook will be in \\$UWHPSC/labs/lab4/lab4a.ipynb if you have cloned the class repository.  You may need to \"git pull\" to update.\n",
      "* Or you can bring it down to your computer (or SageMathCloud project) by typing this in a terminal shell:\n",
      "  *   wget http://faculty.washington.edu/rjl/classes/am583s2014/lab4a.ipynb"
     ]
    },
    {
     "cell_type": "markdown",
     "metadata": {},
     "source": [
      "## Announcements:\n",
      "\n",
      "* Please sit at assigned tables.\n",
      "* You may need to hold the shift key while refreshing your browser to load the latest SMC.\n",
      "* Today will review some git commands and work more with the notebook for Newton's method."
     ]
    },
    {
     "cell_type": "markdown",
     "metadata": {},
     "source": [
      "You do not need to do the next command when using the IPython notebook on SageMathCloud, but it may be needed if you open this notebook on another system where the defaults are set differently.  It does \"from pylab import *\" so numpy and plotting commands are available, and sets it up for plots to appear in the notebook webpage"
     ]
    },
    {
     "cell_type": "code",
     "collapsed": false,
     "input": [
      "%pylab inline   "
     ],
     "language": "python",
     "metadata": {},
     "outputs": [
      {
       "output_type": "stream",
       "stream": "stdout",
       "text": [
        "Populating the interactive namespace from numpy and matplotlib\n"
       ]
      }
     ],
     "prompt_number": 1
    },
    {
     "cell_type": "markdown",
     "metadata": {},
     "source": [
      "## Newton's method"
     ]
    },
    {
     "cell_type": "code",
     "collapsed": false,
     "input": [
      "def newton(fvals, x0, tol):\n",
      "    xk = x0\n",
      "    kmax = 30   # maximum number of iterations\n",
      "    print \"   k               xk                      f(xk)\"\n",
      "    for k in range(kmax):\n",
      "        \n",
      "        fxk, fpxk = fvals(xk)  # evaluate f(x) and f'(x)\n",
      "        print \"%4i   %22.15f  %22.15f\"  % (k, xk, fxk)\n",
      "\n",
      "        if abs(fxk) < tol:\n",
      "            break  #leave the loop if tolerance satisfied\n",
      "            \n",
      "        xk = xk - fxk / fpxk  # update xk using Newton's method\n",
      "\n",
      "    return xk\n",
      "            \n"
     ],
     "language": "python",
     "metadata": {},
     "outputs": [],
     "prompt_number": 1
    },
    {
     "cell_type": "markdown",
     "metadata": {},
     "source": [
      "## A function to take a single step of Newton's method and plot the step:"
     ]
    },
    {
     "cell_type": "markdown",
     "metadata": {},
     "source": [
      "This next function takes as input some value `xk` (representing $x_k$ in an iteration of Newton's method) and returns $x_{k+1}$.  It also plots the function along with the tangent line at `xk` that is used to define the next iterate.  It plots the function and tangent line over an interval including the two points and adds a legend that contains the two values."
     ]
    },
    {
     "cell_type": "code",
     "collapsed": false,
     "input": [
      "def newton_step_plot(xk, fvals):\n",
      "    fxk, fpxk = fvals(xk)\n",
      "    xkp1 = xk - fxk / fpxk  # calculate x_{k+1} from x_k\n",
      "    xdiff = abs(xkp1 - xk)\n",
      "    xlower = min(xk,xkp1) - xdiff\n",
      "    xupper = max(xk,xkp1) + xdiff\n",
      "    x = linspace(xlower,xupper,500)\n",
      "    fx, fpx = fvals(x)\n",
      "    tangent_line = fxk + (x-xk)*fpxk\n",
      "    plot(x, fx, 'b')\n",
      "    plot(x, tangent_line, 'r')\n",
      "    plot([xk], [fxk], 'ro', label=\"x_k = %g\" % xk)\n",
      "    plot([xkp1], [0.], 'go', label=\"x_{k+1} = %g\" % xkp1)\n",
      "    plot([xlower, xupper], [0,0], 'k')\n",
      "    legend(loc='best')   # uses the labels specified in the plot commands above\n",
      "    axis('tight')\n",
      "    return xkp1"
     ],
     "language": "python",
     "metadata": {},
     "outputs": [],
     "prompt_number": 2
    },
    {
     "cell_type": "markdown",
     "metadata": {},
     "source": [
      "## Now experiment...\n",
      "\n",
      "You might try:\n",
      "\n",
      "* See what happens with the previous example if you use different initial conditions. Does it always converge (perhaps with more steps?)\n",
      "* Try the function $f(x) = "
     ]
    },
    {
     "cell_type": "code",
     "collapsed": false,
     "input": [
      "def fvals(x):\n",
      "    f = (x**2 - 2)*exp(-0.1*x**2) + 0.5\n",
      "    fprime = (2*x -0.2*x*(x**2-2)) * exp(-0.1*x**2)\n",
      "    return f, fprime\n",
      "\n",
      "\n",
      "\n",
      "# Plot the function over a suitable range to get an idea of where the zeros are:\n",
      "\n",
      "x = linspace(-10,10,1000)\n",
      "fx, fpx = fvals(x)\n",
      "plot(x,fx)\n",
      "plot(x,zeros(len(x)), 'k')  # x-axis\n",
      "#ylim(-2,0.5)"
     ],
     "language": "python",
     "metadata": {},
     "outputs": [
      {
       "metadata": {},
       "output_type": "pyout",
       "prompt_number": 6,
       "text": [
        "[<matplotlib.lines.Line2D at 0x3d39710>]"
       ]
      },
      {
       "metadata": {},
       "output_type": "display_data",
       "png": "[encoded data removed]",
       "text": [
        "<matplotlib.figure.Figure at 0x3d395d0>"
       ]
      }
     ],
     "prompt_number": 6
    },
    {
     "cell_type": "code",
     "collapsed": false,
     "input": [
      "xk = newton(fvals, 1., 1e-10)\n",
      "fxk, fpxk = fvals(xk)\n",
      "print \"At xk = %22.15e,  f(xk) = %22.15e  \" % (xk,fxk)"
     ],
     "language": "python",
     "metadata": {},
     "outputs": [
      {
       "output_type": "stream",
       "stream": "stdout",
       "text": [
        "   k               xk                      f(xk)\n",
        "   0        1.000000000000000      -0.404837418035960\n",
        "   1        1.203370245891898       0.022503433876258\n",
        "   2        1.193128381016442       0.000042137532198\n",
        "   3        1.193109130763237       0.000000000151643\n",
        "   4        1.193109130693959      -0.000000000000000\n",
        "At xk =  1.193109130693959e+00,  f(xk) = -2.220446049250313e-16  \n"
       ]
      }
     ],
     "prompt_number": 7
    },
    {
     "cell_type": "code",
     "collapsed": false,
     "input": [
      "\n",
      "def fvals(x):\n",
      "    f = 2 + 20*sin(x**2) - exp(x) \n",
      "    fprime = 40*x*cos(x**2) - exp(x)\n",
      "    return f, fprime\n",
      "\n",
      "# Plot the function over a suitable range to get an idea of where the zeros are:\n",
      "\n",
      "x = linspace(-6,4,1000)\n",
      "fx, fpx = fvals(x)\n",
      "plot(x,fx)\n",
      "plot(x,zeros(len(x)), 'k')  # x-axis\n",
      "#ylim(-2,0.5)"
     ],
     "language": "python",
     "metadata": {},
     "outputs": [
      {
       "metadata": {},
       "output_type": "pyout",
       "prompt_number": 17,
       "text": [
        "[<matplotlib.lines.Line2D at 0x3ec3850>]"
       ]
      },
      {
       "metadata": {},
       "output_type": "display_data",
       "png": "[encoded data removed]",
       "text": [
        "<matplotlib.figure.Figure at 0x3ed7110>"
       ]
      }
     ],
     "prompt_number": 17
    },
    {
     "cell_type": "markdown",
     "metadata": {},
     "source": [
      "Zoom in to look for good initial guesses:"
     ]
    },
    {
     "cell_type": "code",
     "collapsed": false,
     "input": [
      "x = linspace(0,4,1000)\n",
      "fx, fpx = fvals(x)\n",
      "plot(x,fx)\n",
      "plot(x,zeros(len(x)), 'k')  # x-axis\n",
      "\n",
      "figure()\n",
      "plot(x,fx)\n",
      "plot(x,zeros(len(x)), 'k')  # x-axis\n",
      "xlim([2.5, 3.0])\n",
      "ylim([-10,10])\n"
     ],
     "language": "python",
     "metadata": {},
     "outputs": [
      {
       "metadata": {},
       "output_type": "pyout",
       "prompt_number": 19,
       "text": [
        "(-10, 10)"
       ]
      },
      {
       "metadata": {},
       "output_type": "display_data",
       "png": "[encoded data removed]",
       "text": [
        "<matplotlib.figure.Figure at 0x38ba090>"
       ]
      },
      {
       "metadata": {},
       "output_type": "display_data",
       "png": "[encoded data removed]",
       "text": [
        "<matplotlib.figure.Figure at 0x4c6f910>"
       ]
      }
     ],
     "prompt_number": 19
    },
    {
     "cell_type": "markdown",
     "metadata": {},
     "source": [
      "Try various initial guesses to try to find the three positive zeros:"
     ]
    },
    {
     "cell_type": "code",
     "collapsed": false,
     "input": [
      "x0 = 1.  # note this converges to a an xk < 0\n",
      "xk = newton(fvals, x0, 1e-10)\n",
      "fxk, fpxk = fvals(xk)\n",
      "print \"At xk = %22.15e,  f(xk) = %22.15e  \" % (xk,fxk)"
     ],
     "language": "python",
     "metadata": {},
     "outputs": [
      {
       "output_type": "stream",
       "stream": "stdout",
       "text": [
        "   k               xk                      f(xk)\n",
        "   0        1.000000000000000      16.111137867698886\n",
        "   1        0.147279584093039       1.275113632984884\n",
        "   2       -0.122236669139563       1.413886040218566\n",
        "   3        0.122640427016665       1.170324286577991\n",
        "   4       -0.187413390025008       1.873230222316289\n",
        "   5        0.037707068134118       0.990009450202088\n",
        "   6       -2.069349649505509     -16.304073426099926\n",
        "   7       -1.595303191123130      13.033820783745227\n",
        "   8       -1.843161553225515      -3.215838784590288\n",
        "   9       -1.797977469384006       0.014281578791279\n",
        "  10       -1.798177337431642      -0.000000327567254\n",
        "  11       -1.798177332847609       0.000000000000005\n",
        "At xk = -1.798177332847609e+00,  f(xk) =  4.524158825347513e-15  \n"
       ]
      }
     ],
     "prompt_number": 12
    },
    {
     "cell_type": "code",
     "collapsed": false,
     "input": [
      "x0 = 2.\n",
      "xk = newton(fvals, x0, 1e-10)\n",
      "fxk, fpxk = fvals(xk)\n",
      "print \"At xk = %22.15e,  f(xk) = %22.15e  \" % (xk,fxk)"
     ],
     "language": "python",
     "metadata": {},
     "outputs": [
      {
       "output_type": "stream",
       "stream": "stdout",
       "text": [
        "   k               xk                      f(xk)\n",
        "   0        2.000000000000000     -20.525106005089214\n",
        "   1        1.656083808535012       4.530801410781863\n",
        "   2        1.724443106218330      -0.267375592692043\n",
        "   3        1.720811138308240      -0.000565143439227\n",
        "   4        1.720803428772618      -0.000000002598783\n",
        "   5        1.720803428737166       0.000000000000009\n",
        "At xk =  1.720803428737166e+00,  f(xk) =  8.881784197001252e-15  \n"
       ]
      }
     ],
     "prompt_number": 13
    },
    {
     "cell_type": "code",
     "collapsed": false,
     "input": [
      "x0 = 2.5\n",
      "xk = newton(fvals, x0, 1e-10)\n",
      "fxk, fpxk = fvals(xk)\n",
      "print \"At xk = %22.15e,  f(xk) = %22.15e  \" % (xk,fxk)"
     ],
     "language": "python",
     "metadata": {},
     "outputs": [
      {
       "output_type": "stream",
       "stream": "stdout",
       "text": [
        "   k               xk                      f(xk)\n",
        "   0        2.500000000000000     -10.846078291654610\n",
        "   1        2.623584500613982      -0.492027749088077\n",
        "   2        2.630340539018377      -0.006798464480951\n",
        "   3        2.630436570096133      -0.000001430887492\n",
        "   4        2.630436590316514      -0.000000000000071\n",
        "At xk =  2.630436590316514e+00,  f(xk) = -7.105427357601002e-14  \n"
       ]
      }
     ],
     "prompt_number": 14
    },
    {
     "cell_type": "code",
     "collapsed": false,
     "input": [
      "x0 = 3.\n",
      "xk = newton(fvals, x0, 1e-10)\n",
      "fxk, fpxk = fvals(xk)\n",
      "print \"At xk = %22.15e,  f(xk) = %22.15e  \" % (xk,fxk)"
     ],
     "language": "python",
     "metadata": {},
     "outputs": [
      {
       "output_type": "stream",
       "stream": "stdout",
       "text": [
        "   k               xk                      f(xk)\n",
        "   0        3.000000000000000      -9.843167218352535\n",
        "   1        2.923944688926137      -1.259530461769195\n",
        "   2        2.910481684113222      -0.052382376568243\n",
        "   3        2.909870578351823      -0.000111027378573\n",
        "   4        2.909869277563181      -0.000000000503633\n",
        "   5        2.909869277557280       0.000000000000011\n",
        "At xk =  2.909869277557280e+00,  f(xk) =  1.065814103640150e-14  \n"
       ]
      }
     ],
     "prompt_number": 15
    },
    {
     "cell_type": "markdown",
     "metadata": {},
     "source": [
      "## New problem:\n",
      "\n",
      "Find the two points where the circle and line intersect in the plot below.\n",
      "The equation of the circle is $(x-1)^2 + y^2 = 4$ and the curve $y = \\cos(x)$.\n",
      "Combine these equations by plugging $\\cos(x)$ in for $y$ in the equation for the circle.  This gives a single nonlinear equation in $x$ that you can solve using Newton's method.\n",
      "\n",
      "Try to find both intersections and then replot the circle with these two points as red dots."
     ]
    },
    {
     "cell_type": "code",
     "collapsed": false,
     "input": [
      "theta = linspace(0, 2*pi, 1000)\n",
      "x = 1 + 2*cos(theta)\n",
      "y = 2*sin(theta)\n",
      "plot(x,y,'b')\n",
      "\n",
      "x = linspace(-2,4,1000)\n",
      "y = cos(x)\n",
      "plot(x,y,'b')\n",
      "axis('scaled')  # so circle looks circular\n"
     ],
     "language": "python",
     "metadata": {},
     "outputs": [
      {
       "metadata": {},
       "output_type": "pyout",
       "prompt_number": 63,
       "text": [
        "(-2.0, 4.0, -2.0, 2.0)"
       ]
      },
      {
       "metadata": {},
       "output_type": "display_data",
       "png": "[encoded data removed]",
       "text": [
        "<matplotlib.figure.Figure at 0x6142b50>"
       ]
      }
     ],
     "prompt_number": 63
    },
    {
     "cell_type": "code",
     "collapsed": false,
     "input": [],
     "language": "python",
     "metadata": {},
     "outputs": []
    }
   ],
   "metadata": {}
  }
 ]
}